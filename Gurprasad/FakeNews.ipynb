{
  "nbformat": 4,
  "nbformat_minor": 5,
  "metadata": {
    "kernelspec": {
      "display_name": "Python 3",
      "language": "python",
      "name": "python3"
    },
    "language_info": {
      "codemirror_mode": {
        "name": "ipython",
        "version": 3
      },
      "file_extension": ".py",
      "mimetype": "text/x-python",
      "name": "python",
      "nbconvert_exporter": "python",
      "pygments_lexer": "ipython3",
      "version": "3.8.6"
    },
    "colab": {
      "name": "FakeNews.ipynb",
      "provenance": []
    }
  },
  "cells": [
    {
      "cell_type": "code",
      "metadata": {
        "id": "2bb00509"
      },
      "source": [
        "import numpy as np\n",
        "import pandas as pd"
      ],
      "id": "2bb00509",
      "execution_count": 274,
      "outputs": []
    },
    {
      "cell_type": "code",
      "metadata": {
        "colab": {
          "base_uri": "https://localhost:8080/"
        },
        "id": "Rjcd3KHsuV0G",
        "outputId": "97194a3d-8d56-40da-c15f-7148dff9782f"
      },
      "source": [
        "from google.colab import drive\n",
        "drive.mount('/content/drive/')"
      ],
      "id": "Rjcd3KHsuV0G",
      "execution_count": 275,
      "outputs": [
        {
          "output_type": "stream",
          "text": [
            "Drive already mounted at /content/drive/; to attempt to forcibly remount, call drive.mount(\"/content/drive/\", force_remount=True).\n"
          ],
          "name": "stdout"
        }
      ]
    },
    {
      "cell_type": "code",
      "metadata": {
        "id": "13aa65b9"
      },
      "source": [
        "df1 = pd.read_csv('/content/drive/MyDrive/data/FalseTrainData.csv')"
      ],
      "id": "13aa65b9",
      "execution_count": 276,
      "outputs": []
    },
    {
      "cell_type": "code",
      "metadata": {
        "colab": {
          "base_uri": "https://localhost:8080/",
          "height": 206
        },
        "id": "c342a85c",
        "outputId": "f9c5f70b-8958-4413-e0cb-0cfcbbc06010"
      },
      "source": [
        "df1.head()"
      ],
      "id": "c342a85c",
      "execution_count": 277,
      "outputs": [
        {
          "output_type": "execute_result",
          "data": {
            "text/html": [
              "<div>\n",
              "<style scoped>\n",
              "    .dataframe tbody tr th:only-of-type {\n",
              "        vertical-align: middle;\n",
              "    }\n",
              "\n",
              "    .dataframe tbody tr th {\n",
              "        vertical-align: top;\n",
              "    }\n",
              "\n",
              "    .dataframe thead th {\n",
              "        text-align: right;\n",
              "    }\n",
              "</style>\n",
              "<table border=\"1\" class=\"dataframe\">\n",
              "  <thead>\n",
              "    <tr style=\"text-align: right;\">\n",
              "      <th></th>\n",
              "      <th>Unnamed: 0</th>\n",
              "      <th>title</th>\n",
              "      <th>text</th>\n",
              "      <th>subject</th>\n",
              "      <th>date</th>\n",
              "    </tr>\n",
              "  </thead>\n",
              "  <tbody>\n",
              "    <tr>\n",
              "      <th>0</th>\n",
              "      <td>0</td>\n",
              "      <td>Donald Trump Sends Out Embarrassing New Year’...</td>\n",
              "      <td>Donald Trump just couldn t wish all Americans ...</td>\n",
              "      <td>News</td>\n",
              "      <td>December 31, 2017</td>\n",
              "    </tr>\n",
              "    <tr>\n",
              "      <th>1</th>\n",
              "      <td>1</td>\n",
              "      <td>Drunk Bragging Trump Staffer Started Russian ...</td>\n",
              "      <td>House Intelligence Committee Chairman Devin Nu...</td>\n",
              "      <td>News</td>\n",
              "      <td>December 31, 2017</td>\n",
              "    </tr>\n",
              "    <tr>\n",
              "      <th>2</th>\n",
              "      <td>2</td>\n",
              "      <td>Sheriff David Clarke Becomes An Internet Joke...</td>\n",
              "      <td>On Friday, it was revealed that former Milwauk...</td>\n",
              "      <td>News</td>\n",
              "      <td>December 30, 2017</td>\n",
              "    </tr>\n",
              "    <tr>\n",
              "      <th>3</th>\n",
              "      <td>3</td>\n",
              "      <td>Trump Is So Obsessed He Even Has Obama’s Name...</td>\n",
              "      <td>On Christmas day, Donald Trump announced that ...</td>\n",
              "      <td>News</td>\n",
              "      <td>December 29, 2017</td>\n",
              "    </tr>\n",
              "    <tr>\n",
              "      <th>4</th>\n",
              "      <td>4</td>\n",
              "      <td>Pope Francis Just Called Out Donald Trump Dur...</td>\n",
              "      <td>Pope Francis used his annual Christmas Day mes...</td>\n",
              "      <td>News</td>\n",
              "      <td>December 25, 2017</td>\n",
              "    </tr>\n",
              "  </tbody>\n",
              "</table>\n",
              "</div>"
            ],
            "text/plain": [
              "   Unnamed: 0  ...               date\n",
              "0           0  ...  December 31, 2017\n",
              "1           1  ...  December 31, 2017\n",
              "2           2  ...  December 30, 2017\n",
              "3           3  ...  December 29, 2017\n",
              "4           4  ...  December 25, 2017\n",
              "\n",
              "[5 rows x 5 columns]"
            ]
          },
          "metadata": {
            "tags": []
          },
          "execution_count": 277
        }
      ]
    },
    {
      "cell_type": "code",
      "metadata": {
        "id": "3a57f8a2"
      },
      "source": [
        "df1['output'] = [\"0\"]*df1.shape[0]"
      ],
      "id": "3a57f8a2",
      "execution_count": 278,
      "outputs": []
    },
    {
      "cell_type": "code",
      "metadata": {
        "colab": {
          "base_uri": "https://localhost:8080/"
        },
        "id": "96bae97b",
        "outputId": "e66dde67-ffb3-4702-9e2f-fb2409ef3a2b"
      },
      "source": [
        "df1.pop('Unnamed: 0')"
      ],
      "id": "96bae97b",
      "execution_count": 279,
      "outputs": [
        {
          "output_type": "execute_result",
          "data": {
            "text/plain": [
              "0            0\n",
              "1            1\n",
              "2            2\n",
              "3            3\n",
              "4            4\n",
              "         ...  \n",
              "14995    14995\n",
              "14996    14996\n",
              "14997    14997\n",
              "14998    14998\n",
              "14999    14999\n",
              "Name: Unnamed: 0, Length: 15000, dtype: int64"
            ]
          },
          "metadata": {
            "tags": []
          },
          "execution_count": 279
        }
      ]
    },
    {
      "cell_type": "code",
      "metadata": {
        "colab": {
          "base_uri": "https://localhost:8080/",
          "height": 206
        },
        "id": "b678d3f1",
        "outputId": "f4b14aab-8d68-47d3-aac1-95b91ed21b08"
      },
      "source": [
        "df1.head()"
      ],
      "id": "b678d3f1",
      "execution_count": 280,
      "outputs": [
        {
          "output_type": "execute_result",
          "data": {
            "text/html": [
              "<div>\n",
              "<style scoped>\n",
              "    .dataframe tbody tr th:only-of-type {\n",
              "        vertical-align: middle;\n",
              "    }\n",
              "\n",
              "    .dataframe tbody tr th {\n",
              "        vertical-align: top;\n",
              "    }\n",
              "\n",
              "    .dataframe thead th {\n",
              "        text-align: right;\n",
              "    }\n",
              "</style>\n",
              "<table border=\"1\" class=\"dataframe\">\n",
              "  <thead>\n",
              "    <tr style=\"text-align: right;\">\n",
              "      <th></th>\n",
              "      <th>title</th>\n",
              "      <th>text</th>\n",
              "      <th>subject</th>\n",
              "      <th>date</th>\n",
              "      <th>output</th>\n",
              "    </tr>\n",
              "  </thead>\n",
              "  <tbody>\n",
              "    <tr>\n",
              "      <th>0</th>\n",
              "      <td>Donald Trump Sends Out Embarrassing New Year’...</td>\n",
              "      <td>Donald Trump just couldn t wish all Americans ...</td>\n",
              "      <td>News</td>\n",
              "      <td>December 31, 2017</td>\n",
              "      <td>0</td>\n",
              "    </tr>\n",
              "    <tr>\n",
              "      <th>1</th>\n",
              "      <td>Drunk Bragging Trump Staffer Started Russian ...</td>\n",
              "      <td>House Intelligence Committee Chairman Devin Nu...</td>\n",
              "      <td>News</td>\n",
              "      <td>December 31, 2017</td>\n",
              "      <td>0</td>\n",
              "    </tr>\n",
              "    <tr>\n",
              "      <th>2</th>\n",
              "      <td>Sheriff David Clarke Becomes An Internet Joke...</td>\n",
              "      <td>On Friday, it was revealed that former Milwauk...</td>\n",
              "      <td>News</td>\n",
              "      <td>December 30, 2017</td>\n",
              "      <td>0</td>\n",
              "    </tr>\n",
              "    <tr>\n",
              "      <th>3</th>\n",
              "      <td>Trump Is So Obsessed He Even Has Obama’s Name...</td>\n",
              "      <td>On Christmas day, Donald Trump announced that ...</td>\n",
              "      <td>News</td>\n",
              "      <td>December 29, 2017</td>\n",
              "      <td>0</td>\n",
              "    </tr>\n",
              "    <tr>\n",
              "      <th>4</th>\n",
              "      <td>Pope Francis Just Called Out Donald Trump Dur...</td>\n",
              "      <td>Pope Francis used his annual Christmas Day mes...</td>\n",
              "      <td>News</td>\n",
              "      <td>December 25, 2017</td>\n",
              "      <td>0</td>\n",
              "    </tr>\n",
              "  </tbody>\n",
              "</table>\n",
              "</div>"
            ],
            "text/plain": [
              "                                               title  ... output\n",
              "0   Donald Trump Sends Out Embarrassing New Year’...  ...      0\n",
              "1   Drunk Bragging Trump Staffer Started Russian ...  ...      0\n",
              "2   Sheriff David Clarke Becomes An Internet Joke...  ...      0\n",
              "3   Trump Is So Obsessed He Even Has Obama’s Name...  ...      0\n",
              "4   Pope Francis Just Called Out Donald Trump Dur...  ...      0\n",
              "\n",
              "[5 rows x 5 columns]"
            ]
          },
          "metadata": {
            "tags": []
          },
          "execution_count": 280
        }
      ]
    },
    {
      "cell_type": "code",
      "metadata": {
        "id": "7131218e"
      },
      "source": [
        "df2 = pd.read_csv('/content/drive/MyDrive/data/TrueTrainData.csv')"
      ],
      "id": "7131218e",
      "execution_count": 281,
      "outputs": []
    },
    {
      "cell_type": "code",
      "metadata": {
        "scrolled": true,
        "colab": {
          "base_uri": "https://localhost:8080/",
          "height": 206
        },
        "id": "e104f552",
        "outputId": "c703ed38-4818-4036-923b-0a1e737be6bd"
      },
      "source": [
        "df2.head()"
      ],
      "id": "e104f552",
      "execution_count": 282,
      "outputs": [
        {
          "output_type": "execute_result",
          "data": {
            "text/html": [
              "<div>\n",
              "<style scoped>\n",
              "    .dataframe tbody tr th:only-of-type {\n",
              "        vertical-align: middle;\n",
              "    }\n",
              "\n",
              "    .dataframe tbody tr th {\n",
              "        vertical-align: top;\n",
              "    }\n",
              "\n",
              "    .dataframe thead th {\n",
              "        text-align: right;\n",
              "    }\n",
              "</style>\n",
              "<table border=\"1\" class=\"dataframe\">\n",
              "  <thead>\n",
              "    <tr style=\"text-align: right;\">\n",
              "      <th></th>\n",
              "      <th>Unnamed: 0</th>\n",
              "      <th>title</th>\n",
              "      <th>text</th>\n",
              "      <th>subject</th>\n",
              "      <th>date</th>\n",
              "    </tr>\n",
              "  </thead>\n",
              "  <tbody>\n",
              "    <tr>\n",
              "      <th>0</th>\n",
              "      <td>0</td>\n",
              "      <td>As U.S. budget fight looms, Republicans flip t...</td>\n",
              "      <td>WASHINGTON (Reuters) - The head of a conservat...</td>\n",
              "      <td>politicsNews</td>\n",
              "      <td>December 31, 2017</td>\n",
              "    </tr>\n",
              "    <tr>\n",
              "      <th>1</th>\n",
              "      <td>1</td>\n",
              "      <td>U.S. military to accept transgender recruits o...</td>\n",
              "      <td>WASHINGTON (Reuters) - Transgender people will...</td>\n",
              "      <td>politicsNews</td>\n",
              "      <td>December 29, 2017</td>\n",
              "    </tr>\n",
              "    <tr>\n",
              "      <th>2</th>\n",
              "      <td>2</td>\n",
              "      <td>Senior U.S. Republican senator: 'Let Mr. Muell...</td>\n",
              "      <td>WASHINGTON (Reuters) - The special counsel inv...</td>\n",
              "      <td>politicsNews</td>\n",
              "      <td>December 31, 2017</td>\n",
              "    </tr>\n",
              "    <tr>\n",
              "      <th>3</th>\n",
              "      <td>3</td>\n",
              "      <td>FBI Russia probe helped by Australian diplomat...</td>\n",
              "      <td>WASHINGTON (Reuters) - Trump campaign adviser ...</td>\n",
              "      <td>politicsNews</td>\n",
              "      <td>December 30, 2017</td>\n",
              "    </tr>\n",
              "    <tr>\n",
              "      <th>4</th>\n",
              "      <td>4</td>\n",
              "      <td>Trump wants Postal Service to charge 'much mor...</td>\n",
              "      <td>SEATTLE/WASHINGTON (Reuters) - President Donal...</td>\n",
              "      <td>politicsNews</td>\n",
              "      <td>December 29, 2017</td>\n",
              "    </tr>\n",
              "  </tbody>\n",
              "</table>\n",
              "</div>"
            ],
            "text/plain": [
              "   Unnamed: 0  ...                date\n",
              "0           0  ...  December 31, 2017 \n",
              "1           1  ...  December 29, 2017 \n",
              "2           2  ...  December 31, 2017 \n",
              "3           3  ...  December 30, 2017 \n",
              "4           4  ...  December 29, 2017 \n",
              "\n",
              "[5 rows x 5 columns]"
            ]
          },
          "metadata": {
            "tags": []
          },
          "execution_count": 282
        }
      ]
    },
    {
      "cell_type": "code",
      "metadata": {
        "colab": {
          "base_uri": "https://localhost:8080/"
        },
        "id": "d2995954",
        "outputId": "db6bc192-4b70-4c89-953f-6386c2ac9de9"
      },
      "source": [
        "df2['output'] = [\"1\"]*df2.shape[0]\n",
        "df2.pop('Unnamed: 0')"
      ],
      "id": "d2995954",
      "execution_count": 283,
      "outputs": [
        {
          "output_type": "execute_result",
          "data": {
            "text/plain": [
              "0            0\n",
              "1            1\n",
              "2            2\n",
              "3            3\n",
              "4            4\n",
              "         ...  \n",
              "14995    14995\n",
              "14996    14996\n",
              "14997    14997\n",
              "14998    14998\n",
              "14999    14999\n",
              "Name: Unnamed: 0, Length: 15000, dtype: int64"
            ]
          },
          "metadata": {
            "tags": []
          },
          "execution_count": 283
        }
      ]
    },
    {
      "cell_type": "code",
      "metadata": {
        "colab": {
          "base_uri": "https://localhost:8080/",
          "height": 206
        },
        "id": "03d61ff7",
        "outputId": "520c4708-a333-44bc-f9bc-3c2818074bec"
      },
      "source": [
        "df2.head()"
      ],
      "id": "03d61ff7",
      "execution_count": 284,
      "outputs": [
        {
          "output_type": "execute_result",
          "data": {
            "text/html": [
              "<div>\n",
              "<style scoped>\n",
              "    .dataframe tbody tr th:only-of-type {\n",
              "        vertical-align: middle;\n",
              "    }\n",
              "\n",
              "    .dataframe tbody tr th {\n",
              "        vertical-align: top;\n",
              "    }\n",
              "\n",
              "    .dataframe thead th {\n",
              "        text-align: right;\n",
              "    }\n",
              "</style>\n",
              "<table border=\"1\" class=\"dataframe\">\n",
              "  <thead>\n",
              "    <tr style=\"text-align: right;\">\n",
              "      <th></th>\n",
              "      <th>title</th>\n",
              "      <th>text</th>\n",
              "      <th>subject</th>\n",
              "      <th>date</th>\n",
              "      <th>output</th>\n",
              "    </tr>\n",
              "  </thead>\n",
              "  <tbody>\n",
              "    <tr>\n",
              "      <th>0</th>\n",
              "      <td>As U.S. budget fight looms, Republicans flip t...</td>\n",
              "      <td>WASHINGTON (Reuters) - The head of a conservat...</td>\n",
              "      <td>politicsNews</td>\n",
              "      <td>December 31, 2017</td>\n",
              "      <td>1</td>\n",
              "    </tr>\n",
              "    <tr>\n",
              "      <th>1</th>\n",
              "      <td>U.S. military to accept transgender recruits o...</td>\n",
              "      <td>WASHINGTON (Reuters) - Transgender people will...</td>\n",
              "      <td>politicsNews</td>\n",
              "      <td>December 29, 2017</td>\n",
              "      <td>1</td>\n",
              "    </tr>\n",
              "    <tr>\n",
              "      <th>2</th>\n",
              "      <td>Senior U.S. Republican senator: 'Let Mr. Muell...</td>\n",
              "      <td>WASHINGTON (Reuters) - The special counsel inv...</td>\n",
              "      <td>politicsNews</td>\n",
              "      <td>December 31, 2017</td>\n",
              "      <td>1</td>\n",
              "    </tr>\n",
              "    <tr>\n",
              "      <th>3</th>\n",
              "      <td>FBI Russia probe helped by Australian diplomat...</td>\n",
              "      <td>WASHINGTON (Reuters) - Trump campaign adviser ...</td>\n",
              "      <td>politicsNews</td>\n",
              "      <td>December 30, 2017</td>\n",
              "      <td>1</td>\n",
              "    </tr>\n",
              "    <tr>\n",
              "      <th>4</th>\n",
              "      <td>Trump wants Postal Service to charge 'much mor...</td>\n",
              "      <td>SEATTLE/WASHINGTON (Reuters) - President Donal...</td>\n",
              "      <td>politicsNews</td>\n",
              "      <td>December 29, 2017</td>\n",
              "      <td>1</td>\n",
              "    </tr>\n",
              "  </tbody>\n",
              "</table>\n",
              "</div>"
            ],
            "text/plain": [
              "                                               title  ... output\n",
              "0  As U.S. budget fight looms, Republicans flip t...  ...      1\n",
              "1  U.S. military to accept transgender recruits o...  ...      1\n",
              "2  Senior U.S. Republican senator: 'Let Mr. Muell...  ...      1\n",
              "3  FBI Russia probe helped by Australian diplomat...  ...      1\n",
              "4  Trump wants Postal Service to charge 'much mor...  ...      1\n",
              "\n",
              "[5 rows x 5 columns]"
            ]
          },
          "metadata": {
            "tags": []
          },
          "execution_count": 284
        }
      ]
    },
    {
      "cell_type": "code",
      "metadata": {
        "colab": {
          "base_uri": "https://localhost:8080/"
        },
        "id": "793d0e68",
        "outputId": "74f239b6-f920-49c3-ebf4-71ef762ad71f"
      },
      "source": [
        "df = pd.concat([df1, df2]).reset_index()\n",
        "df.pop('date')"
      ],
      "id": "793d0e68",
      "execution_count": 285,
      "outputs": [
        {
          "output_type": "execute_result",
          "data": {
            "text/plain": [
              "0         December 31, 2017\n",
              "1         December 31, 2017\n",
              "2         December 30, 2017\n",
              "3         December 29, 2017\n",
              "4         December 25, 2017\n",
              "                ...        \n",
              "29995    November 13, 2017 \n",
              "29996    November 13, 2017 \n",
              "29997    November 13, 2017 \n",
              "29998    November 12, 2017 \n",
              "29999    November 13, 2017 \n",
              "Name: date, Length: 30000, dtype: object"
            ]
          },
          "metadata": {
            "tags": []
          },
          "execution_count": 285
        }
      ]
    },
    {
      "cell_type": "code",
      "metadata": {
        "colab": {
          "base_uri": "https://localhost:8080/",
          "height": 206
        },
        "id": "942aee09",
        "outputId": "62bb5152-5dea-42fa-ea2c-7ba2e908364b"
      },
      "source": [
        "df.tail()"
      ],
      "id": "942aee09",
      "execution_count": 286,
      "outputs": [
        {
          "output_type": "execute_result",
          "data": {
            "text/html": [
              "<div>\n",
              "<style scoped>\n",
              "    .dataframe tbody tr th:only-of-type {\n",
              "        vertical-align: middle;\n",
              "    }\n",
              "\n",
              "    .dataframe tbody tr th {\n",
              "        vertical-align: top;\n",
              "    }\n",
              "\n",
              "    .dataframe thead th {\n",
              "        text-align: right;\n",
              "    }\n",
              "</style>\n",
              "<table border=\"1\" class=\"dataframe\">\n",
              "  <thead>\n",
              "    <tr style=\"text-align: right;\">\n",
              "      <th></th>\n",
              "      <th>index</th>\n",
              "      <th>title</th>\n",
              "      <th>text</th>\n",
              "      <th>subject</th>\n",
              "      <th>output</th>\n",
              "    </tr>\n",
              "  </thead>\n",
              "  <tbody>\n",
              "    <tr>\n",
              "      <th>29995</th>\n",
              "      <td>14995</td>\n",
              "      <td>Australian publisher delays book alleging Chin...</td>\n",
              "      <td>BEIJING (Reuters) - One of Australia s largest...</td>\n",
              "      <td>worldnews</td>\n",
              "      <td>1</td>\n",
              "    </tr>\n",
              "    <tr>\n",
              "      <th>29996</th>\n",
              "      <td>14996</td>\n",
              "      <td>Exclusive: Japan to delay multi-billion dollar...</td>\n",
              "      <td>TOKYO (Reuters) - Japan will delay a decision ...</td>\n",
              "      <td>worldnews</td>\n",
              "      <td>1</td>\n",
              "    </tr>\n",
              "    <tr>\n",
              "      <th>29997</th>\n",
              "      <td>14997</td>\n",
              "      <td>Strong quake hits Costa Rica, no reports of ma...</td>\n",
              "      <td>SAN JOSE (Reuters) - A strong 6.5 magnitude qu...</td>\n",
              "      <td>worldnews</td>\n",
              "      <td>1</td>\n",
              "    </tr>\n",
              "    <tr>\n",
              "      <th>29998</th>\n",
              "      <td>14998</td>\n",
              "      <td>United resumes Newark-Delhi flights after halt...</td>\n",
              "      <td>NEW YORK/SINGAPORE (Reuters) - United Airlines...</td>\n",
              "      <td>worldnews</td>\n",
              "      <td>1</td>\n",
              "    </tr>\n",
              "    <tr>\n",
              "      <th>29999</th>\n",
              "      <td>14999</td>\n",
              "      <td>Freeport Indonesia mine access road reopened a...</td>\n",
              "      <td>JAKARTA (Reuters) - The Indonesian unit of Fre...</td>\n",
              "      <td>worldnews</td>\n",
              "      <td>1</td>\n",
              "    </tr>\n",
              "  </tbody>\n",
              "</table>\n",
              "</div>"
            ],
            "text/plain": [
              "       index  ... output\n",
              "29995  14995  ...      1\n",
              "29996  14996  ...      1\n",
              "29997  14997  ...      1\n",
              "29998  14998  ...      1\n",
              "29999  14999  ...      1\n",
              "\n",
              "[5 rows x 5 columns]"
            ]
          },
          "metadata": {
            "tags": []
          },
          "execution_count": 286
        }
      ]
    },
    {
      "cell_type": "code",
      "metadata": {
        "id": "2f437aaf"
      },
      "source": [
        "from sklearn.utils import shuffle"
      ],
      "id": "2f437aaf",
      "execution_count": 287,
      "outputs": []
    },
    {
      "cell_type": "code",
      "metadata": {
        "id": "1f6fd1d9"
      },
      "source": [
        "df = shuffle(df)"
      ],
      "id": "1f6fd1d9",
      "execution_count": 288,
      "outputs": []
    },
    {
      "cell_type": "code",
      "metadata": {
        "colab": {
          "base_uri": "https://localhost:8080/",
          "height": 206
        },
        "id": "4f16332a",
        "outputId": "065761a3-3263-4d14-853d-e8ee8feca9f1"
      },
      "source": [
        "df.head()"
      ],
      "id": "4f16332a",
      "execution_count": 289,
      "outputs": [
        {
          "output_type": "execute_result",
          "data": {
            "text/html": [
              "<div>\n",
              "<style scoped>\n",
              "    .dataframe tbody tr th:only-of-type {\n",
              "        vertical-align: middle;\n",
              "    }\n",
              "\n",
              "    .dataframe tbody tr th {\n",
              "        vertical-align: top;\n",
              "    }\n",
              "\n",
              "    .dataframe thead th {\n",
              "        text-align: right;\n",
              "    }\n",
              "</style>\n",
              "<table border=\"1\" class=\"dataframe\">\n",
              "  <thead>\n",
              "    <tr style=\"text-align: right;\">\n",
              "      <th></th>\n",
              "      <th>index</th>\n",
              "      <th>title</th>\n",
              "      <th>text</th>\n",
              "      <th>subject</th>\n",
              "      <th>output</th>\n",
              "    </tr>\n",
              "  </thead>\n",
              "  <tbody>\n",
              "    <tr>\n",
              "      <th>12688</th>\n",
              "      <td>12688</td>\n",
              "      <td>TRUMP SUPPORTERS Heckle Clinton Chairman: “We ...</td>\n",
              "      <td>Based #Trump supporters heckle @johnpodesta wh...</td>\n",
              "      <td>politics</td>\n",
              "      <td>0</td>\n",
              "    </tr>\n",
              "    <tr>\n",
              "      <th>602</th>\n",
              "      <td>602</td>\n",
              "      <td>Trump Golfs While Threatening Nuclear War, Th...</td>\n",
              "      <td>Any sane person would think that after Donald ...</td>\n",
              "      <td>News</td>\n",
              "      <td>0</td>\n",
              "    </tr>\n",
              "    <tr>\n",
              "      <th>22244</th>\n",
              "      <td>7244</td>\n",
              "      <td>Obama, on last trip to Europe, warns against n...</td>\n",
              "      <td>ATHENS (Reuters) - U.S. President Barack Obama...</td>\n",
              "      <td>politicsNews</td>\n",
              "      <td>1</td>\n",
              "    </tr>\n",
              "    <tr>\n",
              "      <th>23136</th>\n",
              "      <td>8136</td>\n",
              "      <td>Clinton says success of Syria agreement rests ...</td>\n",
              "      <td>GREENSBORO, N.C. (Reuters) - Democratic presid...</td>\n",
              "      <td>politicsNews</td>\n",
              "      <td>1</td>\n",
              "    </tr>\n",
              "    <tr>\n",
              "      <th>20539</th>\n",
              "      <td>5539</td>\n",
              "      <td>Trump criticizes billions in spending on U.S. ...</td>\n",
              "      <td>WASHINGTON/NEW YORK (Reuters) - U.S. President...</td>\n",
              "      <td>politicsNews</td>\n",
              "      <td>1</td>\n",
              "    </tr>\n",
              "  </tbody>\n",
              "</table>\n",
              "</div>"
            ],
            "text/plain": [
              "       index  ... output\n",
              "12688  12688  ...      0\n",
              "602      602  ...      0\n",
              "22244   7244  ...      1\n",
              "23136   8136  ...      1\n",
              "20539   5539  ...      1\n",
              "\n",
              "[5 rows x 5 columns]"
            ]
          },
          "metadata": {
            "tags": []
          },
          "execution_count": 289
        }
      ]
    },
    {
      "cell_type": "code",
      "metadata": {
        "colab": {
          "base_uri": "https://localhost:8080/"
        },
        "id": "74c2f022",
        "outputId": "7dbdfb88-e0c4-4eb8-ecdc-4dad0b0320d5"
      },
      "source": [
        "df.isnull().sum()"
      ],
      "id": "74c2f022",
      "execution_count": 290,
      "outputs": [
        {
          "output_type": "execute_result",
          "data": {
            "text/plain": [
              "index      0\n",
              "title      0\n",
              "text       0\n",
              "subject    0\n",
              "output     0\n",
              "dtype: int64"
            ]
          },
          "metadata": {
            "tags": []
          },
          "execution_count": 290
        }
      ]
    },
    {
      "cell_type": "code",
      "metadata": {
        "id": "34c0da7b"
      },
      "source": [
        "from sklearn.feature_extraction.text import CountVectorizer\n",
        "from nltk.stem import WordNetLemmatizer\n",
        "from nltk.tokenize import word_tokenize\n",
        "import re\n",
        "from nltk.stem.porter import PorterStemmer\n",
        "ps = PorterStemmer()"
      ],
      "id": "34c0da7b",
      "execution_count": 291,
      "outputs": []
    },
    {
      "cell_type": "code",
      "metadata": {
        "id": "71d78e12"
      },
      "source": [
        "stop_words = [\"0o\", \"0s\", \"3a\", \"3b\", \"3d\", \"6b\", \"6o\", \"a\", \"a1\", \"a2\", \"a3\", \"a4\", \"ab\", \"able\", \"about\", \"above\", \"abst\", \"ac\", \"accordance\", \"according\", \"accordingly\", \"across\", \"act\", \"actually\", \"ad\", \"added\", \"adj\", \"ae\", \"af\", \"affected\", \"affecting\", \"affects\", \"after\", \"afterwards\", \"ag\", \"again\", \"against\", \"ah\", \"ain\", \"ain't\", \"aj\", \"al\", \"all\", \"allow\", \"allows\", \"almost\", \"alone\", \"along\", \"already\", \"also\", \"although\", \"always\", \"am\", \"among\", \"amongst\", \"amoungst\", \"amount\", \"an\", \"and\", \"announce\", \"another\", \"any\", \"anybody\", \"anyhow\", \"anymore\", \"anyone\", \"anything\", \"anyway\", \"anyways\", \"anywhere\", \"ao\", \"ap\", \"apart\", \"apparently\", \"appear\", \"appreciate\", \"appropriate\", \"approximately\", \"ar\", \"are\", \"aren\", \"arent\", \"aren't\", \"arise\", \"around\", \"as\", \"a's\", \"aside\", \"ask\", \"asking\", \"associated\", \"at\", \"au\", \"auth\", \"av\", \"available\", \"aw\", \"away\", \"awfully\", \"ax\", \"ay\", \"az\", \"b\", \"b1\", \"b2\", \"b3\", \"ba\", \"back\", \"bc\", \"bd\", \"be\", \"became\", \"because\", \"become\", \"becomes\", \"becoming\", \"been\", \"before\", \"beforehand\", \"begin\", \"beginning\", \"beginnings\", \"begins\", \"behind\", \"being\", \"believe\", \"below\", \"beside\", \"besides\", \"best\", \"better\", \"between\", \"beyond\", \"bi\", \"bill\", \"biol\", \"bj\", \"bk\", \"bl\", \"bn\", \"both\", \"bottom\", \"bp\", \"br\", \"brief\", \"briefly\", \"bs\", \"bt\", \"bu\", \"but\", \"bx\", \"by\", \"c\", \"c1\", \"c2\", \"c3\", \"ca\", \"call\", \"came\", \"can\", \"cannot\", \"cant\", \"can't\", \"cause\", \"causes\", \"cc\", \"cd\", \"ce\", \"certain\", \"certainly\", \"cf\", \"cg\", \"ch\", \"changes\", \"ci\", \"cit\", \"cj\", \"cl\", \"clearly\", \"cm\", \"c'mon\", \"cn\", \"co\", \"com\", \"come\", \"comes\", \"con\", \"concerning\", \"consequently\", \"consider\", \"considering\", \"contain\", \"containing\", \"contains\", \"corresponding\", \"could\", \"couldn\", \"couldnt\", \"couldn't\", \"course\", \"cp\", \"cq\", \"cr\", \"cry\", \"cs\", \"c's\", \"ct\", \"cu\", \"currently\", \"cv\", \"cx\", \"cy\", \"cz\", \"d\", \"d2\", \"da\", \"date\", \"dc\", \"dd\", \"de\", \"definitely\", \"describe\", \"described\", \"despite\", \"detail\", \"df\", \"di\", \"did\", \"didn\", \"didn't\", \"different\", \"dj\", \"dk\", \"dl\", \"do\", \"does\", \"doesn\", \"doesn't\", \"doing\", \"don\", \"done\", \"don't\", \"down\", \"downwards\", \"dp\", \"dr\", \"ds\", \"dt\", \"du\", \"due\", \"during\", \"dx\", \"dy\", \"e\", \"e2\", \"e3\", \"ea\", \"each\", \"ec\", \"ed\", \"edu\", \"ee\", \"ef\", \"effect\", \"eg\", \"ei\", \"eight\", \"eighty\", \"either\", \"ej\", \"el\", \"eleven\", \"else\", \"elsewhere\", \"em\", \"empty\", \"en\", \"end\", \"ending\", \"enough\", \"entirely\", \"eo\", \"ep\", \"eq\", \"er\", \"es\", \"especially\", \"est\", \"et\", \"et-al\", \"etc\", \"eu\", \"ev\", \"even\", \"ever\", \"every\", \"everybody\", \"everyone\", \"everything\", \"everywhere\", \"ex\", \"exactly\", \"example\", \"except\", \"ey\", \"f\", \"f2\", \"fa\", \"far\", \"fc\", \"few\", \"ff\", \"fi\", \"fifteen\", \"fifth\", \"fify\", \"fill\", \"find\", \"fire\", \"first\", \"five\", \"fix\", \"fj\", \"fl\", \"fn\", \"fo\", \"followed\", \"following\", \"follows\", \"for\", \"former\", \"formerly\", \"forth\", \"forty\", \"found\", \"four\", \"fr\", \"from\", \"front\", \"fs\", \"ft\", \"fu\", \"full\", \"further\", \"furthermore\", \"fy\", \"g\", \"ga\", \"gave\", \"ge\", \"get\", \"gets\", \"getting\", \"gi\", \"give\", \"given\", \"gives\", \"giving\", \"gj\", \"gl\", \"go\", \"goes\", \"going\", \"gone\", \"got\", \"gotten\", \"gr\", \"greetings\", \"gs\", \"gy\", \"h\", \"h2\", \"h3\", \"had\", \"hadn\", \"hadn't\", \"happens\", \"hardly\", \"has\", \"hasn\", \"hasnt\", \"hasn't\", \"have\", \"haven\", \"haven't\", \"having\", \"he\", \"hed\", \"he'd\", \"he'll\", \"hello\", \"help\", \"hence\", \"her\", \"here\", \"hereafter\", \"hereby\", \"herein\", \"heres\", \"here's\", \"hereupon\", \"hers\", \"herself\", \"hes\", \"he's\", \"hh\", \"hi\", \"hid\", \"him\", \"himself\", \"his\", \"hither\", \"hj\", \"ho\", \"home\", \"hopefully\", \"how\", \"howbeit\", \"however\", \"how's\", \"hr\", \"hs\", \"http\", \"hu\", \"hundred\", \"hy\", \"i\", \"i2\", \"i3\", \"i4\", \"i6\", \"i7\", \"i8\", \"ia\", \"ib\", \"ibid\", \"ic\", \"id\", \"i'd\", \"ie\", \"if\", \"ig\", \"ignored\", \"ih\", \"ii\", \"ij\", \"il\", \"i'll\", \"im\", \"i'm\", \"immediate\", \"immediately\", \"importance\", \"important\", \"in\", \"inasmuch\", \"inc\", \"indeed\", \"index\", \"indicate\", \"indicated\", \"indicates\", \"information\", \"inner\", \"insofar\", \"instead\", \"interest\", \"into\", \"invention\", \"inward\", \"io\", \"ip\", \"iq\", \"ir\", \"is\", \"isn\", \"isn't\", \"it\", \"itd\", \"it'd\", \"it'll\", \"its\", \"it's\", \"itself\", \"iv\", \"i've\", \"ix\", \"iy\", \"iz\", \"j\", \"jj\", \"jr\", \"js\", \"jt\", \"ju\", \"just\", \"k\", \"ke\", \"keep\", \"keeps\", \"kept\", \"kg\", \"kj\", \"km\", \"know\", \"known\", \"knows\", \"ko\", \"l\", \"l2\", \"la\", \"largely\", \"last\", \"lately\", \"later\", \"latter\", \"latterly\", \"lb\", \"lc\", \"le\", \"least\", \"les\", \"less\", \"lest\", \"let\", \"lets\", \"let's\", \"lf\", \"like\", \"liked\", \"likely\", \"line\", \"little\", \"lj\", \"ll\", \"ll\", \"ln\", \"lo\", \"look\", \"looking\", \"looks\", \"los\", \"lr\", \"ls\", \"lt\", \"ltd\", \"m\", \"m2\", \"ma\", \"made\", \"mainly\", \"make\", \"makes\", \"many\", \"may\", \"maybe\", \"me\", \"mean\", \"means\", \"meantime\", \"meanwhile\", \"merely\", \"mg\", \"might\", \"mightn\", \"mightn't\", \"mill\", \"million\", \"mine\", \"miss\", \"ml\", \"mn\", \"mo\", \"more\", \"moreover\", \"most\", \"mostly\", \"move\", \"mr\", \"mrs\", \"ms\", \"mt\", \"mu\", \"much\", \"mug\", \"must\", \"mustn\", \"mustn't\", \"my\", \"myself\", \"n\", \"n2\", \"na\", \"name\", \"namely\", \"nay\", \"nc\", \"nd\", \"ne\", \"near\", \"nearly\", \"necessarily\", \"necessary\", \"need\", \"needn\", \"needn't\", \"needs\", \"neither\", \"never\", \"nevertheless\", \"new\", \"next\", \"ng\", \"ni\", \"nine\", \"ninety\", \"nj\", \"nl\", \"nn\", \"no\", \"nobody\", \"noone\", \"nor\", \"normally\", \"noted\", \"nothing\", \"novel\", \"now\", \"nowhere\", \"nr\", \"ns\", \"nt\", \"ny\", \"o\", \"oa\", \"ob\", \"obtain\", \"obtained\", \"obviously\", \"oc\", \"od\", \"of\", \"off\", \"often\", \"og\", \"oh\", \"oi\", \"oj\", \"ok\", \"okay\", \"ol\", \"old\", \"om\", \"omitted\", \"on\", \"once\", \"one\", \"ones\", \"only\", \"onto\", \"oo\", \"op\", \"oq\", \"or\", \"ord\", \"os\", \"ot\", \"other\", \"others\", \"otherwise\", \"ou\", \"ought\", \"our\", \"ours\", \"ourselves\", \"out\", \"outside\", \"over\", \"overall\", \"ow\", \"owing\", \"own\", \"ox\", \"oz\", \"p\", \"p1\", \"p2\", \"p3\", \"page\", \"pagecount\", \"pages\", \"par\", \"part\", \"particular\", \"particularly\", \"pas\", \"past\", \"pc\", \"pd\", \"pe\", \"per\", \"perhaps\", \"pf\", \"ph\", \"pi\", \"pj\", \"pk\", \"pl\", \"placed\", \"please\", \"plus\", \"pm\", \"pn\", \"po\", \"poorly\", \"possible\", \"possibly\", \"potentially\", \"pp\", \"pq\", \"pr\", \"predominantly\", \"present\", \"presumably\", \"previously\", \"primarily\", \"probably\", \"promptly\", \"proud\", \"provides\", \"ps\", \"pt\", \"pu\", \"put\", \"py\", \"q\", \"qj\", \"qu\", \"que\", \"quickly\", \"quite\", \"qv\", \"r\", \"r2\", \"ra\", \"ran\", \"rather\", \"rc\", \"rd\", \"re\", \"readily\", \"really\", \"reasonably\", \"recent\", \"recently\", \"ref\", \"refs\", \"regarding\", \"regardless\", \"regards\", \"related\", \"relatively\", \"research\", \"research-articl\", \"respectively\", \"resulted\", \"resulting\", \"results\", \"rf\", \"rh\", \"ri\", \"right\", \"rj\", \"rl\", \"rm\", \"rn\", \"ro\", \"rq\", \"rr\", \"rs\", \"rt\", \"ru\", \"run\", \"rv\", \"ry\", \"s\", \"s2\", \"sa\", \"said\", \"same\", \"saw\", \"say\", \"saying\", \"says\", \"sc\", \"sd\", \"se\", \"sec\", \"second\", \"secondly\", \"section\", \"see\", \"seeing\", \"seem\", \"seemed\", \"seeming\", \"seems\", \"seen\", \"self\", \"selves\", \"sensible\", \"sent\", \"serious\", \"seriously\", \"seven\", \"several\", \"sf\", \"shall\", \"shan\", \"shan't\", \"she\", \"shed\", \"she'd\", \"she'll\", \"shes\", \"she's\", \"should\", \"shouldn\", \"shouldn't\", \"should've\", \"show\", \"showed\", \"shown\", \"showns\", \"shows\", \"si\", \"side\", \"significant\", \"significantly\", \"similar\", \"similarly\", \"since\", \"sincere\", \"six\", \"sixty\", \"sj\", \"sl\", \"slightly\", \"sm\", \"sn\", \"so\", \"some\", \"somebody\", \"somehow\", \"someone\", \"somethan\", \"something\", \"sometime\", \"sometimes\", \"somewhat\", \"somewhere\", \"soon\", \"sorry\", \"sp\", \"specifically\", \"specified\", \"specify\", \"specifying\", \"sq\", \"sr\", \"ss\", \"st\", \"still\", \"stop\", \"strongly\", \"sub\", \"substantially\", \"successfully\", \"such\", \"sufficiently\", \"suggest\", \"sup\", \"sure\", \"sy\", \"system\", \"sz\", \"t\", \"t1\", \"t2\", \"t3\", \"take\", \"taken\", \"taking\", \"tb\", \"tc\", \"td\", \"te\", \"tell\", \"ten\", \"tends\", \"tf\", \"th\", \"than\", \"thank\", \"thanks\", \"thanx\", \"that\", \"that'll\", \"thats\", \"that's\", \"that've\", \"the\", \"their\", \"theirs\", \"them\", \"themselves\", \"then\", \"thence\", \"there\", \"thereafter\", \"thereby\", \"thered\", \"therefore\", \"therein\", \"there'll\", \"thereof\", \"therere\", \"theres\", \"there's\", \"thereto\", \"thereupon\", \"there've\", \"these\", \"they\", \"theyd\", \"they'd\", \"they'll\", \"theyre\", \"they're\", \"they've\", \"thickv\", \"thin\", \"think\", \"third\", \"this\", \"thorough\", \"thoroughly\", \"those\", \"thou\", \"though\", \"thoughh\", \"thousand\", \"three\", \"throug\", \"through\", \"throughout\", \"thru\", \"thus\", \"ti\", \"til\", \"tip\", \"tj\", \"tl\", \"tm\", \"tn\", \"to\", \"together\", \"too\", \"took\", \"top\", \"toward\", \"towards\", \"tp\", \"tq\", \"tr\", \"tried\", \"tries\", \"truly\", \"try\", \"trying\", \"ts\", \"t's\", \"tt\", \"tv\", \"twelve\", \"twenty\", \"twice\", \"two\", \"tx\", \"u\", \"u201d\", \"ue\", \"ui\", \"uj\", \"uk\", \"um\", \"un\", \"under\", \"unfortunately\", \"unless\", \"unlike\", \"unlikely\", \"until\", \"unto\", \"uo\", \"up\", \"upon\", \"ups\", \"ur\", \"us\", \"use\", \"used\", \"useful\", \"usefully\", \"usefulness\", \"uses\", \"using\", \"usually\", \"ut\", \"v\", \"va\", \"value\", \"various\", \"vd\", \"ve\", \"ve\", \"very\", \"via\", \"viz\", \"vj\", \"vo\", \"vol\", \"vols\", \"volumtype\", \"vq\", \"vs\", \"vt\", \"vu\", \"w\", \"wa\", \"want\", \"wants\", \"was\", \"wasn\", \"wasnt\", \"wasn't\", \"way\", \"we\", \"wed\", \"we'd\", \"welcome\", \"well\", \"we'll\", \"well-b\", \"went\", \"were\", \"we're\", \"weren\", \"werent\", \"weren't\", \"we've\", \"what\", \"whatever\", \"what'll\", \"whats\", \"what's\", \"when\", \"whence\", \"whenever\", \"when's\", \"where\", \"whereafter\", \"whereas\", \"whereby\", \"wherein\", \"wheres\", \"where's\", \"whereupon\", \"wherever\", \"whether\", \"which\", \"while\", \"whim\", \"whither\", \"who\", \"whod\", \"whoever\", \"whole\", \"who'll\", \"whom\", \"whomever\", \"whos\", \"who's\", \"whose\", \"why\", \"why's\", \"wi\", \"widely\", \"will\", \"willing\", \"wish\", \"with\", \"within\", \"without\", \"wo\", \"won\", \"wonder\", \"wont\", \"won't\", \"words\", \"world\", \"would\", \"wouldn\", \"wouldnt\", \"wouldn't\", \"www\", \"x\", \"x1\", \"x2\", \"x3\", \"xf\", \"xi\", \"xj\", \"xk\", \"xl\", \"xn\", \"xo\", \"xs\", \"xt\", \"xv\", \"xx\", \"y\", \"y2\", \"yes\", \"yet\", \"yj\", \"yl\", \"you\", \"youd\", \"you'd\", \"you'll\", \"your\", \"youre\", \"you're\", \"yours\", \"yourself\", \"yourselves\", \"you've\", \"yr\", \"ys\", \"yt\", \"z\", \"zero\", \"zi\", \"zz\",]"
      ],
      "id": "71d78e12",
      "execution_count": 292,
      "outputs": []
    },
    {
      "cell_type": "code",
      "metadata": {
        "id": "20c8e402"
      },
      "source": [
        "corpus = []\n",
        "for i in range(0, len(df)):\n",
        "    subdata = re.sub('[^a-zA-Z]', ' ', df['title'][i])\n",
        "    subdata = subdata.lower()\n",
        "    subdata = subdata.split()\n",
        "    \n",
        "    subdata = [ps.stem(word) for word in subdata if not word in stop_words]\n",
        "    subdata = ' '.join(subdata)\n",
        "    corpus.append(subdata)"
      ],
      "id": "20c8e402",
      "execution_count": 293,
      "outputs": []
    },
    {
      "cell_type": "code",
      "metadata": {
        "colab": {
          "base_uri": "https://localhost:8080/"
        },
        "id": "UgAKPWNz73tp",
        "outputId": "38c904c0-0f26-497e-ad4a-3d0ef0f4f29c"
      },
      "source": [
        "len(corpus)"
      ],
      "id": "UgAKPWNz73tp",
      "execution_count": 294,
      "outputs": [
        {
          "output_type": "execute_result",
          "data": {
            "text/plain": [
              "30000"
            ]
          },
          "metadata": {
            "tags": []
          },
          "execution_count": 294
        }
      ]
    },
    {
      "cell_type": "code",
      "metadata": {
        "id": "zktdGKonyP1A"
      },
      "source": [
        "cv = CountVectorizer(max_features=5000,ngram_range=(1,3))\n",
        "X_train = cv.fit_transform(corpus).toarray()"
      ],
      "id": "zktdGKonyP1A",
      "execution_count": 295,
      "outputs": []
    },
    {
      "cell_type": "code",
      "metadata": {
        "colab": {
          "base_uri": "https://localhost:8080/"
        },
        "id": "pXOVQH6VybMd",
        "outputId": "51a3bc41-82ea-444d-e3c6-d400f4b3e160"
      },
      "source": [
        "cv.vocabulary_"
      ],
      "id": "pXOVQH6VybMd",
      "execution_count": 296,
      "outputs": [
        {
          "output_type": "execute_result",
          "data": {
            "text/plain": [
              "{'donald': 1200,\n",
              " 'trump': 4315,\n",
              " 'send': 3727,\n",
              " 'embarrass': 1311,\n",
              " 'year': 4974,\n",
              " 'eve': 1371,\n",
              " 'messag': 2537,\n",
              " 'disturb': 1181,\n",
              " 'donald trump': 1201,\n",
              " 'trump send': 4550,\n",
              " 'drunk': 1239,\n",
              " 'brag': 452,\n",
              " 'staffer': 3949,\n",
              " 'start': 3962,\n",
              " 'russian': 3566,\n",
              " 'collus': 774,\n",
              " 'investig': 2064,\n",
              " 'sheriff': 3773,\n",
              " 'david': 997,\n",
              " 'clark': 703,\n",
              " 'internet': 2054,\n",
              " 'joke': 2176,\n",
              " 'threaten': 4201,\n",
              " 'peopl': 3001,\n",
              " 'eye': 1412,\n",
              " 'obsess': 2850,\n",
              " 'obama': 2813,\n",
              " 'code': 760,\n",
              " 'websit': 4857,\n",
              " 'imag': 1975,\n",
              " 'pope': 3094,\n",
              " 'franci': 1578,\n",
              " 'call': 536,\n",
              " 'christma': 674,\n",
              " 'speech': 3913,\n",
              " 'pope franci': 3095,\n",
              " 'racist': 3264,\n",
              " 'alabama': 96,\n",
              " 'cop': 882,\n",
              " 'brutal': 499,\n",
              " 'black': 377,\n",
              " 'boy': 449,\n",
              " 'fresh': 1591,\n",
              " 'golf': 1672,\n",
              " 'lash': 2289,\n",
              " 'fbi': 1462,\n",
              " 'deputi': 1101,\n",
              " 'director': 1149,\n",
              " 'jame': 2116,\n",
              " 'comey': 785,\n",
              " 'jame comey': 2117,\n",
              " 'insan': 2031,\n",
              " 'stuff': 4023,\n",
              " 'insid': 2032,\n",
              " 'oval': 2905,\n",
              " 'offic': 2860,\n",
              " 'wit': 4930,\n",
              " 'trump insan': 4464,\n",
              " 'oval offic': 2906,\n",
              " 'cia': 680,\n",
              " 'slam': 3833,\n",
              " 'bulli': 510,\n",
              " 'openli': 2877,\n",
              " 'suggest': 4039,\n",
              " 'act': 28,\n",
              " 'dictat': 1134,\n",
              " 'tweet': 4635,\n",
              " 'cia director': 682,\n",
              " 'slam trump': 3834,\n",
              " 'watch': 4800,\n",
              " 'brand': 454,\n",
              " 'pro': 3178,\n",
              " 'featur': 1473,\n",
              " 'kiss': 2245,\n",
              " 'sick': 3802,\n",
              " 'pro trump': 3180,\n",
              " 'john': 2165,\n",
              " 'founder': 1571,\n",
              " 'retir': 3447,\n",
              " 'figur': 1500,\n",
              " 'racism': 3263,\n",
              " 'bad': 280,\n",
              " 'busi': 521,\n",
              " 'paul': 2975,\n",
              " 'ryan': 3577,\n",
              " 'told': 4232,\n",
              " 'care': 571,\n",
              " 'struggl': 4020,\n",
              " 'famili': 1441,\n",
              " 'live': 2386,\n",
              " 'blue': 413,\n",
              " 'state': 3963,\n",
              " 'paul ryan': 2977,\n",
              " 'news': 2728,\n",
              " 'mitch': 2604,\n",
              " 'mcconnel': 2495,\n",
              " 'repeal': 3377,\n",
              " 'obamacar': 2843,\n",
              " 'bad news': 281,\n",
              " 'news trump': 2735,\n",
              " 'mitch mcconnel': 2605,\n",
              " 'repeal obamacar': 3378,\n",
              " 'lindsey': 2378,\n",
              " 'graham': 1707,\n",
              " 'trash': 4284,\n",
              " 'media': 2502,\n",
              " 'forget': 1561,\n",
              " 'lindsey graham': 2379,\n",
              " 'disney': 1172,\n",
              " 'gop': 1676,\n",
              " 'scam': 3626,\n",
              " 'shred': 3794,\n",
              " 'tax': 4126,\n",
              " 'tone': 4239,\n",
              " 'rep': 3375,\n",
              " 'scalis': 3625,\n",
              " 'lose': 2411,\n",
              " 'die': 1135,\n",
              " 'mock': 2616,\n",
              " 'hall': 1760,\n",
              " 'presid': 3130,\n",
              " 'mueller': 2660,\n",
              " 'spokesman': 3932,\n",
              " 'cked': 695,\n",
              " 'snl': 3856,\n",
              " 'hilari': 1841,\n",
              " 'accus': 24,\n",
              " 'child': 650,\n",
              " 'molest': 2624,\n",
              " 'roy': 3534,\n",
              " 'moor': 2639,\n",
              " 'senat': 3692,\n",
              " 'race': 3256,\n",
              " 'video': 4724,\n",
              " 'hilari mock': 1843,\n",
              " 'child molest': 651,\n",
              " 'roy moor': 3535,\n",
              " 'senat race': 3717,\n",
              " 'race video': 3258,\n",
              " 'republican': 3392,\n",
              " 'drag': 1218,\n",
              " 'robert': 3511,\n",
              " 'republican senat': 3413,\n",
              " 'rebuk': 3318,\n",
              " 'victim': 4721,\n",
              " 'invit': 2068,\n",
              " 'nra': 2797,\n",
              " 'parti': 2957,\n",
              " 'hook': 1886,\n",
              " 'anniversari': 153,\n",
              " 'trump invit': 4467,\n",
              " 'commit': 802,\n",
              " 'suicid': 4041,\n",
              " 'alleg': 108,\n",
              " 'teen': 4155,\n",
              " 'girl': 1650,\n",
              " 'detail': 1115,\n",
              " 'meghan': 2517,\n",
              " 'mccain': 2494,\n",
              " 'amaz': 116,\n",
              " 'respons': 3434,\n",
              " 'jone': 2178,\n",
              " 'win': 4913,\n",
              " 'deep': 1035,\n",
              " 'red': 3334,\n",
              " 'cnn': 747,\n",
              " 'democrat': 1074,\n",
              " 'repres': 3390,\n",
              " 'time': 4219,\n",
              " 'alabama senat': 97,\n",
              " 'white': 4877,\n",
              " 'hous': 1903,\n",
              " 'sexist': 3750,\n",
              " 'shame': 3762,\n",
              " 'sen': 3691,\n",
              " 'white hous': 4878,\n",
              " 'despic': 1110,\n",
              " 'femal': 1488,\n",
              " 'campaign': 546,\n",
              " 'money': 2629,\n",
              " 'trump suggest': 4561,\n",
              " 'candid': 558,\n",
              " 'side': 3804,\n",
              " 'putin': 3241,\n",
              " 'reagan': 3306,\n",
              " 'senat candid': 3697,\n",
              " 'fox': 1572,\n",
              " 'host': 1894,\n",
              " 'cleans': 711,\n",
              " 'arrest': 209,\n",
              " 'watch fox': 4812,\n",
              " 'fox host': 1573,\n",
              " 'host call': 1895,\n",
              " 'investig trump': 2065,\n",
              " 'watch fox host': 4813,\n",
              " 'liber': 2358,\n",
              " 'group': 1727,\n",
              " 'troll': 4307,\n",
              " 'ralli': 3280,\n",
              " 'troll trump': 4308,\n",
              " 'ralli video': 3282,\n",
              " 'franken': 1581,\n",
              " 'resign': 3426,\n",
              " 'backfir': 277,\n",
              " 'break': 460,\n",
              " 'final': 1507,\n",
              " 'scott': 3647,\n",
              " 'killer': 2238,\n",
              " 'sentenc': 3730,\n",
              " 'prison': 3172,\n",
              " 'proof': 3199,\n",
              " 'unfit': 4669,\n",
              " 'servic': 3738,\n",
              " 'proof trump': 3200,\n",
              " 'complet': 814,\n",
              " 'screw': 3657,\n",
              " 'middl': 2559,\n",
              " 'east': 1260,\n",
              " 'peac': 2982,\n",
              " 'process': 3186,\n",
              " 'wednesday': 4859,\n",
              " 'trump complet': 4380,\n",
              " 'middl east': 2561,\n",
              " 'east peac': 1261,\n",
              " 'peac process': 2983,\n",
              " 'recogn': 3324,\n",
              " 'jerusalem': 2138,\n",
              " 'today': 4229,\n",
              " 'recogn jerusalem': 3325,\n",
              " 'support': 4053,\n",
              " 'coal': 753,\n",
              " 'ceo': 611,\n",
              " 'upset': 4687,\n",
              " 'wipe': 4924,\n",
              " 'thousand': 4199,\n",
              " 'mine': 2579,\n",
              " 'job': 2155,\n",
              " 'watch trump': 4838,\n",
              " 'trump support': 4562,\n",
              " 'watch trump support': 4840,\n",
              " 'sit': 3821,\n",
              " 'donat': 1205,\n",
              " 'gop senat': 1686,\n",
              " 'democrat senat': 1082,\n",
              " 'nation': 2694,\n",
              " 'committe': 803,\n",
              " 'pedophil': 2987,\n",
              " 'eat': 1264,\n",
              " 'dramat': 1221,\n",
              " 'safeti': 3585,\n",
              " 'want': 4783,\n",
              " 'twitter': 4640,\n",
              " 'follow': 1545,\n",
              " 'plan': 3048,\n",
              " 'miser': 2592,\n",
              " 'john mccain': 2170,\n",
              " 'sarah': 3607,\n",
              " 'huckabe': 1937,\n",
              " 'sander': 3602,\n",
              " 'attack': 240,\n",
              " 'age': 70,\n",
              " 'sarah huckabe': 3608,\n",
              " 'huckabe sander': 1938,\n",
              " 'sarah huckabe sander': 3609,\n",
              " 'agent': 73,\n",
              " 'destroy': 1111,\n",
              " 'agenc': 71,\n",
              " 'fbi agent': 1463,\n",
              " 'trump attack': 4336,\n",
              " 'flip': 1532,\n",
              " 'skit': 3831,\n",
              " 'take': 4107,\n",
              " 'privat': 3174,\n",
              " 'hell': 1820,\n",
              " 'take trump': 4109,\n",
              " 'leak': 2322,\n",
              " 'email': 1306,\n",
              " 'prove': 3212,\n",
              " 'offici': 2862,\n",
              " 'awar': 267,\n",
              " 'russia': 3552,\n",
              " 'thrown': 4206,\n",
              " 'usa': 4693,\n",
              " 'elect': 1284,\n",
              " 'prove trump': 3213,\n",
              " 'trump offici': 4499,\n",
              " 'elect trump': 1293,\n",
              " 'admit': 46,\n",
              " 'knew': 2250,\n",
              " 'flynn': 1539,\n",
              " 'lie': 2367,\n",
              " 'ask': 219,\n",
              " 'drop': 1232,\n",
              " 'trump admit': 4322,\n",
              " 'awesom': 269,\n",
              " 'michael': 2550,\n",
              " 'lead': 2316,\n",
              " 'lock': 2397,\n",
              " 'chant': 627,\n",
              " 'court': 910,\n",
              " 'michael flynn': 2551,\n",
              " 'panic': 2939,\n",
              " 'crack': 926,\n",
              " 'testifi': 4178,\n",
              " 'epic': 1345,\n",
              " 'ck': 693,\n",
              " 'britain': 487,\n",
              " 'supremacist': 4068,\n",
              " 'retweet': 3450,\n",
              " 'trump epic': 4412,\n",
              " 'white supremacist': 4896,\n",
              " 'voter': 4762,\n",
              " 'avoid': 264,\n",
              " 'scandal': 3627,\n",
              " 'joe': 2160,\n",
              " 'scarborough': 3630,\n",
              " 'not': 2780,\n",
              " 'imagin': 1977,\n",
              " 'mind': 2578,\n",
              " 'joe scarborough': 2164,\n",
              " 'trump lose': 4479,\n",
              " 'sourc': 3882,\n",
              " 'confirm': 833,\n",
              " 'interview': 2056,\n",
              " 'jare': 2123,\n",
              " 'kushner': 2268,\n",
              " 'week': 4860,\n",
              " 'ago': 76,\n",
              " 'jare kushner': 2124,\n",
              " 'crazi': 929,\n",
              " 'wrong': 4966,\n",
              " 'account': 23,\n",
              " 'sh': 3757,\n",
              " 'leader': 2319,\n",
              " 'remark': 3368,\n",
              " 'lose sh': 2413,\n",
              " 'american': 125,\n",
              " 'rape': 3293,\n",
              " 'elect presid': 1291,\n",
              " 'year girl': 4976,\n",
              " 'biggest': 358,\n",
              " 'kkk': 2246,\n",
              " 'fan': 1444,\n",
              " 'love': 2423,\n",
              " 'anti': 162,\n",
              " 'muslim': 2669,\n",
              " 'morn': 2642,\n",
              " 'trump biggest': 4345,\n",
              " 'anti muslim': 170,\n",
              " 'spent': 3918,\n",
              " 'night': 2749,\n",
              " 'convict': 876,\n",
              " 'crimin': 942,\n",
              " 'sean': 3662,\n",
              " 'hanniti': 1770,\n",
              " 'throw': 4205,\n",
              " 'stage': 3950,\n",
              " 'temper': 4160,\n",
              " 'tantrum': 4118,\n",
              " 'photo': 3030,\n",
              " 'pose': 3102,\n",
              " 'sean hanniti': 3663,\n",
              " 'temper tantrum': 4161,\n",
              " 'big': 356,\n",
              " 'rant': 3289,\n",
              " 'democrat trump': 1084,\n",
              " 'trump big': 4344,\n",
              " 'wake': 4776,\n",
              " 'scream': 3654,\n",
              " 'racial': 3262,\n",
              " 'slur': 3842,\n",
              " 'black peopl': 384,\n",
              " 'object': 2848,\n",
              " 'princ': 3168,\n",
              " 'harri': 1780,\n",
              " 'engag': 1335,\n",
              " 'terribl': 4168,\n",
              " 'reason': 3312,\n",
              " 'princ harri': 3169,\n",
              " 'honor': 1885,\n",
              " 'nativ': 2700,\n",
              " 'elizabeth': 1303,\n",
              " 'warren': 4794,\n",
              " 'pocahonta': 3063,\n",
              " 'nativ american': 2701,\n",
              " 'trump call': 4361,\n",
              " 'elizabeth warren': 1304,\n",
              " 'pictur': 3038,\n",
              " 'popular': 3097,\n",
              " 'ralli trump': 3281,\n",
              " 'breitbart': 472,\n",
              " 'editor': 1271,\n",
              " 'song': 3875,\n",
              " 'cnn host': 749,\n",
              " 'photograph': 3031,\n",
              " 'level': 2352,\n",
              " 'trump presid': 4514,\n",
              " 'defend': 1043,\n",
              " 'trump defend': 4393,\n",
              " 'principl': 3170,\n",
              " 'power': 3115,\n",
              " 'remain': 3367,\n",
              " 'heard': 1812,\n",
              " 'access': 18,\n",
              " 'hollywood': 1874,\n",
              " 'tape': 4120,\n",
              " 'happen': 1771,\n",
              " 'blister': 401,\n",
              " 'wreck': 4961,\n",
              " 'yell': 4978,\n",
              " 'magazin': 2437,\n",
              " 'time magazin': 4220,\n",
              " 'call trump': 541,\n",
              " 'trump lie': 4477,\n",
              " 'humili': 1947,\n",
              " 'award': 268,\n",
              " 'humili trump': 1948,\n",
              " 'ivanka': 2106,\n",
              " 'malia': 2449,\n",
              " 'dad': 977,\n",
              " 'malia obama': 2450,\n",
              " 'launch': 2298,\n",
              " 'conspiraci': 855,\n",
              " 'theori': 4191,\n",
              " 'boot': 437,\n",
              " 'foot': 1549,\n",
              " 'conspiraci theori': 856,\n",
              " 'gay': 1622,\n",
              " 'oper': 2878,\n",
              " 'endors': 1326,\n",
              " 'bigot': 359,\n",
              " 'high': 1828,\n",
              " 'school': 3638,\n",
              " 'high school': 1832,\n",
              " 'york': 4982,\n",
              " 'report': 3383,\n",
              " 'actual': 34,\n",
              " 'congress': 840,\n",
              " 'york time': 4984,\n",
              " 'ban': 295,\n",
              " 'life': 2371,\n",
              " 'harass': 1775,\n",
              " 'staff': 3948,\n",
              " 'camera': 544,\n",
              " 'fox news': 1574,\n",
              " 'wallac': 4781,\n",
              " 'woodsh': 4944,\n",
              " 'back': 273,\n",
              " 'pastor': 2968,\n",
              " 'qaeda': 3243,\n",
              " 'secur': 3676,\n",
              " 'advis': 54,\n",
              " 'reportedli': 3389,\n",
              " 'trump nation': 4491,\n",
              " 'nation secur': 2696,\n",
              " 'secur advis': 3677,\n",
              " 'trump nation secur': 4492,\n",
              " 'nation secur advis': 2697,\n",
              " 'favorit': 1461,\n",
              " 'channel': 626,\n",
              " 'ego': 1279,\n",
              " 'texa': 4182,\n",
              " 'governor': 1696,\n",
              " 'broke': 491,\n",
              " 'unpreced': 4681,\n",
              " 'texa governor': 4183,\n",
              " 'conserv': 851,\n",
              " 'christian': 673,\n",
              " 'sexual': 3752,\n",
              " 'assault': 226,\n",
              " 'secret': 3670,\n",
              " 'lawmak': 2308,\n",
              " 'conserv christian': 853,\n",
              " 'sexual assault': 3754,\n",
              " 'republican lawmak': 3403,\n",
              " 'caught': 594,\n",
              " 'hot': 1898,\n",
              " 'mic': 2549,\n",
              " 'hot mic': 1899,\n",
              " 'trump video': 4600,\n",
              " 'donald trump video': 1204,\n",
              " 'countri': 906,\n",
              " 'trump destroy': 4399,\n",
              " 'ssi': 3944,\n",
              " 'hand': 1767,\n",
              " 'prime': 3166,\n",
              " 'minist': 2584,\n",
              " 'prime minist': 3167,\n",
              " 'chao': 628,\n",
              " 'man': 2453,\n",
              " 'accident': 20,\n",
              " 'shoot': 3783,\n",
              " 'wife': 4905,\n",
              " 'church': 679,\n",
              " 'gun': 1741,\n",
              " 'talk': 4113,\n",
              " 'mall': 2451,\n",
              " 'hard': 1776,\n",
              " 'admin': 42,\n",
              " 'toss': 4244,\n",
              " 'rule': 3542,\n",
              " 'son': 3872,\n",
              " 'wors': 4954,\n",
              " 'trump admin': 4320,\n",
              " 'light': 2373,\n",
              " 'pentagon': 3000,\n",
              " 'bust': 523,\n",
              " 'inappropri': 1996,\n",
              " 'relat': 3359,\n",
              " 'anti gay': 166,\n",
              " 'gop rep': 1685,\n",
              " 'marco': 2464,\n",
              " 'rubio': 3537,\n",
              " 'drink': 1227,\n",
              " 'water': 4844,\n",
              " 'time trump': 4221,\n",
              " 'marco rubio': 2465,\n",
              " 'corpor': 890,\n",
              " 'shock': 3781,\n",
              " 'econom': 1265,\n",
              " 'truth': 4621,\n",
              " 'cut': 970,\n",
              " 'trump econom': 4405,\n",
              " 'tax cut': 4130,\n",
              " 'jail': 2111,\n",
              " 'truck': 4311,\n",
              " 'owner': 2917,\n",
              " 'screenshot': 3656,\n",
              " 'anti trump': 172,\n",
              " 'delusion': 1068,\n",
              " 'fact': 1417,\n",
              " 'uranium': 4688,\n",
              " 'deal': 1006,\n",
              " 'trump fan': 4422,\n",
              " 'extremist': 1410,\n",
              " 'stori': 4002,\n",
              " 'press': 3151,\n",
              " 'air': 88,\n",
              " 'forc': 1552,\n",
              " 'trump told': 4581,\n",
              " 'air forc': 89,\n",
              " 'pervert': 3019,\n",
              " 'oop': 2871,\n",
              " 'judici': 2194,\n",
              " 'nomine': 2760,\n",
              " 'marriag': 2472,\n",
              " 'attorney': 249,\n",
              " 'oop trump': 2872,\n",
              " 'laugh': 2295,\n",
              " 'philippin': 3025,\n",
              " 'journalist': 2182,\n",
              " 'spi': 3920,\n",
              " 'murder': 2666,\n",
              " 'biden': 355,\n",
              " 'watch joe': 4820,\n",
              " 'joe biden': 2162,\n",
              " 'trump hilari': 4447,\n",
              " 'document': 1191,\n",
              " 'launder': 2299,\n",
              " 'bank': 300,\n",
              " 'corner': 888,\n",
              " 'lobbyist': 2394,\n",
              " 'rage': 3273,\n",
              " 'colleagu': 768,\n",
              " 'date': 994,\n",
              " 'teenag': 4156,\n",
              " 'condemn': 822,\n",
              " 'nazi': 2706,\n",
              " 'misconduct': 2591,\n",
              " 'gop candid': 1677,\n",
              " 'intellig': 2041,\n",
              " 'commun': 805,\n",
              " 'bu': 500,\n",
              " 'strong': 4018,\n",
              " 'evid': 1373,\n",
              " 'meddl': 2500,\n",
              " 'trump throw': 4579,\n",
              " 'russian meddl': 3575,\n",
              " 'mike': 2568,\n",
              " 'penc': 2994,\n",
              " 'maga': 2436,\n",
              " 'grope': 1724,\n",
              " 'mike penc': 2569,\n",
              " 'newsweek': 2738,\n",
              " 'cover': 921,\n",
              " 'freak': 1583,\n",
              " 'bibl': 353,\n",
              " 'turn': 4632,\n",
              " 'disgust': 1169,\n",
              " 'administr': 43,\n",
              " 'senat democrat': 3704,\n",
              " 'trump administr': 4321,\n",
              " 'sunday': 4047,\n",
              " 'massacr': 2479,\n",
              " 'bump': 512,\n",
              " 'mass': 2476,\n",
              " 'mass shoot': 2477,\n",
              " 'bare': 306,\n",
              " 'spend': 3917,\n",
              " 'second': 3669,\n",
              " 'victori': 4723,\n",
              " 'trump victori': 4599,\n",
              " 'main': 2440,\n",
              " 'expand': 1389,\n",
              " 'medicaid': 2508,\n",
              " 'trump ck': 4371,\n",
              " 'rick': 3480,\n",
              " 'santorum': 3606,\n",
              " 'torch': 4242,\n",
              " 'elector': 1297,\n",
              " 'rick santorum': 3481,\n",
              " 'trump not': 4495,\n",
              " 'virginia': 4738,\n",
              " 'resist': 3427,\n",
              " 'huge': 1940,\n",
              " 'trump huge': 4456,\n",
              " 'justic': 2203,\n",
              " 'dept': 1100,\n",
              " 'realiz': 3311,\n",
              " 'prosecut': 3204,\n",
              " 'woman': 4937,\n",
              " 'stupid': 4025,\n",
              " 'case': 585,\n",
              " 'justic dept': 2205,\n",
              " 'promot': 3197,\n",
              " 'day': 999,\n",
              " 'war': 4785,\n",
              " 'war video': 4788,\n",
              " 'agre': 77,\n",
              " 'treat': 4292,\n",
              " 'milk': 2573,\n",
              " 'trump agre': 4326,\n",
              " 'answer': 156,\n",
              " 'furiou': 1608,\n",
              " 'ask trump': 220,\n",
              " 'trump republican': 4537,\n",
              " 'facebook': 1415,\n",
              " 'person': 3016,\n",
              " 'info': 2020,\n",
              " 'critic': 944,\n",
              " 'multipl': 2664,\n",
              " 'pee': 2988,\n",
              " 'real': 3307,\n",
              " 'safe': 3584,\n",
              " 'space': 3899,\n",
              " 'tell': 4158,\n",
              " 'japanes': 2122,\n",
              " 'diplomat': 1144,\n",
              " 'trump tell': 4576,\n",
              " 'latest': 2292,\n",
              " 'god': 1665,\n",
              " 'prayer': 3122,\n",
              " 'let': 2350,\n",
              " 'shot': 3789,\n",
              " 'univers': 4676,\n",
              " 'polic': 3072,\n",
              " 'kick': 2231,\n",
              " 'campu': 551,\n",
              " 'troubl': 4310,\n",
              " 'lawyer': 2313,\n",
              " 'bomb': 425,\n",
              " 'direct': 1147,\n",
              " 'pay': 2978,\n",
              " 'play': 3055,\n",
              " 'attempt': 246,\n",
              " 'russian lawyer': 3574,\n",
              " 'pay play': 2979,\n",
              " 'claim': 697,\n",
              " 'women': 4938,\n",
              " 'babi': 271,\n",
              " 'economi': 1267,\n",
              " 'watch republican': 4834,\n",
              " 'cash': 586,\n",
              " 'antifa': 174,\n",
              " 'field': 1493,\n",
              " 'deliv': 1067,\n",
              " 'scath': 3633,\n",
              " 'remind': 3370,\n",
              " 'classic': 706,\n",
              " 'trump respons': 4540,\n",
              " 'japan': 2120,\n",
              " 'missil': 2596,\n",
              " 'work': 4946,\n",
              " 'wall': 4778,\n",
              " 'close': 740,\n",
              " 'disgrac': 1168,\n",
              " 'face': 1413,\n",
              " 'indict': 2013,\n",
              " 'team': 4146,\n",
              " 'waterg': 4847,\n",
              " 'prosecutor': 3205,\n",
              " 'gag': 1612,\n",
              " 'trump russia': 4543,\n",
              " 'link': 2382,\n",
              " 'abort': 7,\n",
              " 'bizarr': 376,\n",
              " 'horribl': 1889,\n",
              " 'offens': 2858,\n",
              " 'gop lawmak': 1682,\n",
              " 'rant video': 3291,\n",
              " 'perfect': 3005,\n",
              " 'sign': 3806,\n",
              " 'infuri': 2024,\n",
              " 'land': 2283,\n",
              " 'suprem': 4061,\n",
              " 'punish': 3232,\n",
              " 'trump suprem': 4564,\n",
              " 'suprem court': 4062,\n",
              " 'trump suprem court': 4565,\n",
              " 'hypocrit': 1958,\n",
              " 'predat': 3124,\n",
              " 'ivanka trump': 2107,\n",
              " 'trump humili': 4457,\n",
              " 'sexual harass': 3755,\n",
              " 'pull': 3227,\n",
              " 'nfl': 2741,\n",
              " 'ad': 35,\n",
              " 'sponsor': 3935,\n",
              " 'special': 3908,\n",
              " 'gift': 1646,\n",
              " 'mail': 2439,\n",
              " 'month': 2634,\n",
              " 'burn': 518,\n",
              " 'congressman': 846,\n",
              " 'constitu': 857,\n",
              " 'gop congressman': 1678,\n",
              " 'hero': 1823,\n",
              " 'celebr': 607,\n",
              " 'twist': 4639,\n",
              " 'brilliant': 482,\n",
              " 'energi': 1332,\n",
              " 'secretari': 3672,\n",
              " 'idea': 1963,\n",
              " 'stop': 4000,\n",
              " 'energi secretari': 1333,\n",
              " 'jeff': 2132,\n",
              " 'session': 3739,\n",
              " 'contact': 863,\n",
              " 'rememb': 3369,\n",
              " 'jeff session': 2133,\n",
              " 'alt': 114,\n",
              " 'fool': 1548,\n",
              " 'fake': 1433,\n",
              " 'civil': 689,\n",
              " 'civil war': 691,\n",
              " 'amend': 121,\n",
              " 'small': 3846,\n",
              " 'fortun': 1565,\n",
              " 'liter': 2385,\n",
              " 'sabotag': 3579,\n",
              " 'nyc': 2808,\n",
              " 'terrorist': 4174,\n",
              " 'keep': 2216,\n",
              " 'mouth': 2652,\n",
              " 'shut': 3797,\n",
              " 'trump liter': 4478,\n",
              " 'aid': 83,\n",
              " 'danger': 987,\n",
              " 'manafort': 2454,\n",
              " 'reason trump': 3313,\n",
              " 'trump aid': 4327,\n",
              " 'paul manafort': 2976,\n",
              " 'ambassador': 119,\n",
              " 'violat': 4733,\n",
              " 'constitut': 858,\n",
              " 'visit': 4743,\n",
              " 'accus trump': 26,\n",
              " 'meme': 2525,\n",
              " 'hillari': 1848,\n",
              " 'jesu': 2144,\n",
              " 'chuck': 676,\n",
              " 'schumer': 3640,\n",
              " 'blame': 394,\n",
              " 'chuck schumer': 677,\n",
              " 'trump blame': 4348,\n",
              " 'terrorist attack': 4175,\n",
              " 'knock': 2252,\n",
              " 'flag': 1522,\n",
              " 'dodg': 1194,\n",
              " 'question': 3249,\n",
              " 'watch gop': 4815,\n",
              " 'american flag': 126,\n",
              " 'question video': 3251,\n",
              " 'chief': 646,\n",
              " 'kelli': 2219,\n",
              " 'slaveri': 3838,\n",
              " 'trump chief': 4367,\n",
              " 'chief staff': 647,\n",
              " 'john kelli': 2167,\n",
              " 'trump chief staff': 4368,\n",
              " 'legal': 2342,\n",
              " 'crime': 941,\n",
              " 'trump lawyer': 4474,\n",
              " 'refer': 3338,\n",
              " 'clinton': 720,\n",
              " 'unhing': 4670,\n",
              " 'seth': 3742,\n",
              " 'meyer': 2547,\n",
              " 'sum': 4044,\n",
              " 'monday': 2628,\n",
              " 'event': 1372,\n",
              " 'perfectli': 3009,\n",
              " 'seth meyer': 3743,\n",
              " 'knife': 2251,\n",
              " 'birthday': 371,\n",
              " 'guilti': 1739,\n",
              " 'gate': 1621,\n",
              " 'enter': 1337,\n",
              " 'plea': 3057,\n",
              " 'tweet video': 4637,\n",
              " 'consid': 854,\n",
              " 'camp': 545,\n",
              " 'manag': 2455,\n",
              " 'trump camp': 4362,\n",
              " 'head': 1799,\n",
              " 'explod': 1398,\n",
              " 'higher': 1833,\n",
              " 'head explod': 1800,\n",
              " 'pardon': 2945,\n",
              " 'move': 2653,\n",
              " 'probe': 3181,\n",
              " 'trump move': 4487,\n",
              " 'russia probe': 3559,\n",
              " 'number': 2805,\n",
              " 'insur': 2037,\n",
              " 'fault': 1459,\n",
              " 'impeach': 1987,\n",
              " 'impeach video': 1989,\n",
              " 'tomi': 4237,\n",
              " 'lahren': 2281,\n",
              " 'halloween': 1761,\n",
              " 'tomi lahren': 4238,\n",
              " 'total': 4245,\n",
              " 'rumor': 3545,\n",
              " 'hillari clinton': 1850,\n",
              " 'major': 2444,\n",
              " 'alli': 111,\n",
              " 'trump alli': 4328,\n",
              " 'way': 4850,\n",
              " 'tip': 4226,\n",
              " 'charg': 629,\n",
              " 'file': 1501,\n",
              " 'russia investig': 3557,\n",
              " 'puerto': 3223,\n",
              " 'rico': 3484,\n",
              " 'contract': 867,\n",
              " 'compani': 808,\n",
              " 'corrupt': 895,\n",
              " 'puerto rico': 3224,\n",
              " 'execut': 1382,\n",
              " 'watch white': 4842,\n",
              " 'hous offici': 1921,\n",
              " 'white hous offici': 4885,\n",
              " 'coordin': 881,\n",
              " 'sanction': 3596,\n",
              " 'trump close': 4375,\n",
              " 'russia sanction': 3561,\n",
              " 'bunch': 513,\n",
              " 'protest': 3209,\n",
              " 'car': 568,\n",
              " 'judg': 2187,\n",
              " 'bar': 303,\n",
              " 'mom': 2625,\n",
              " 'fee': 1481,\n",
              " 'place': 3047,\n",
              " 'propos': 3203,\n",
              " 'melania': 2520,\n",
              " 'trump ban': 4341,\n",
              " 'lewi': 2354,\n",
              " 'john lewi': 2169,\n",
              " 'hillari trump': 1856,\n",
              " 'trump furiou': 4434,\n",
              " 'milo': 2576,\n",
              " 'vote': 4751,\n",
              " 'equal': 1348,\n",
              " 'wed': 4858,\n",
              " 'ice': 1961,\n",
              " 'thug': 4207,\n",
              " 'surgeri': 4071,\n",
              " 'kill': 2235,\n",
              " 'amazingli': 117,\n",
              " 'creat': 932,\n",
              " 'trump danger': 4387,\n",
              " 'hit': 1867,\n",
              " 'kid': 2232,\n",
              " 'respect': 3431,\n",
              " 'melania trump': 2521,\n",
              " 'trump hit': 4450,\n",
              " 'pant': 2941,\n",
              " 'bob': 416,\n",
              " 'corker': 887,\n",
              " 'alert': 102,\n",
              " 'angri': 149,\n",
              " 'spur': 3942,\n",
              " 'draft': 1217,\n",
              " 'soldier': 3867,\n",
              " 'widow': 4904,\n",
              " 'speak': 3904,\n",
              " 'liar': 2356,\n",
              " 'speak trump': 3905,\n",
              " 'recal': 3320,\n",
              " 'apolog': 176,\n",
              " 'issu': 2102,\n",
              " 'pain': 2927,\n",
              " 'poll': 3088,\n",
              " 'rip': 3499,\n",
              " 'medal': 2499,\n",
              " 'recipi': 3323,\n",
              " 'releas': 3361,\n",
              " 'fascist': 1453,\n",
              " 'futur': 1609,\n",
              " 'failur': 1430,\n",
              " 'trump critic': 4383,\n",
              " 'credit': 937,\n",
              " 'jfk': 2148,\n",
              " 'requir': 3420,\n",
              " 'pass': 2965,\n",
              " 'trump take': 4568,\n",
              " 'year ago': 4975,\n",
              " 'maher': 2438,\n",
              " 'check': 638,\n",
              " 'fact check': 1418,\n",
              " 'guy': 1751,\n",
              " 'punch': 3230,\n",
              " 'beauti': 324,\n",
              " 'british': 488,\n",
              " 'rise': 3502,\n",
              " 'rate': 3298,\n",
              " 'trump hand': 4437,\n",
              " 'own': 2916,\n",
              " 'origin': 2894,\n",
              " 'paint': 2928,\n",
              " 'hang': 1769,\n",
              " 'chicago': 645,\n",
              " 'trump brag': 4352,\n",
              " 'richard': 3479,\n",
              " 'florida': 1538,\n",
              " 'ass': 221,\n",
              " 'store': 4001,\n",
              " 'display': 1173,\n",
              " 'pre': 3123,\n",
              " 'obama video': 2838,\n",
              " 'suppress': 4060,\n",
              " 'wisconsin': 4928,\n",
              " 'voter suppress': 4766,\n",
              " 'georg': 1633,\n",
              " 'bush': 520,\n",
              " 'supremaci': 4067,\n",
              " 'georg bush': 1634,\n",
              " 'white supremaci': 4895,\n",
              " 'storm': 4004,\n",
              " 'wh': 4873,\n",
              " 'walk': 4777,\n",
              " 'phone': 3028,\n",
              " 'whine': 4874,\n",
              " 'tch': 4141,\n",
              " 'trump whine': 4609,\n",
              " 'promis': 3196,\n",
              " 'thing': 4192,\n",
              " 'trump final': 4427,\n",
              " 'long': 2404,\n",
              " 'tie': 4211,\n",
              " 'town': 4254,\n",
              " 'share': 3765,\n",
              " 'post': 3105,\n",
              " 'respond': 3432,\n",
              " 'threat': 4200,\n",
              " 'ck trump': 694,\n",
              " 'trump threat': 4577,\n",
              " 'stand': 3955,\n",
              " 'anthem': 158,\n",
              " 'shirt': 3780,\n",
              " 'think': 4195,\n",
              " 'chair': 618,\n",
              " 'stand nation': 3956,\n",
              " 'nation anthem': 2695,\n",
              " 'stand nation anthem': 3957,\n",
              " 'flood': 1534,\n",
              " 'social': 3861,\n",
              " 'surfac': 4069,\n",
              " 'hire': 1860,\n",
              " 'social media': 3862,\n",
              " 'media video': 2505,\n",
              " 'attend': 247,\n",
              " 'chariti': 630,\n",
              " 'tear': 4148,\n",
              " 'brilliantli': 484,\n",
              " 'request': 3419,\n",
              " 'cake': 532,\n",
              " 'fcc': 1470,\n",
              " 'refus': 3343,\n",
              " 'dismantl': 1170,\n",
              " 'petti': 3021,\n",
              " 'rebuk trump': 3319,\n",
              " 'trump refus': 4534,\n",
              " 'sad': 3583,\n",
              " 'forgot': 1562,\n",
              " 'van': 4703,\n",
              " 'scorch': 3644,\n",
              " 'help': 1822,\n",
              " ...}"
            ]
          },
          "metadata": {
            "tags": []
          },
          "execution_count": 296
        }
      ]
    },
    {
      "cell_type": "code",
      "metadata": {
        "id": "I2ia14NyymKO"
      },
      "source": [
        "from sklearn.naive_bayes import MultinomialNB"
      ],
      "id": "I2ia14NyymKO",
      "execution_count": 364,
      "outputs": []
    },
    {
      "cell_type": "code",
      "metadata": {
        "id": "mv7Jwi8Py23z"
      },
      "source": [
        "model=MultinomialNB()\n"
      ],
      "id": "mv7Jwi8Py23z",
      "execution_count": 365,
      "outputs": []
    },
    {
      "cell_type": "code",
      "metadata": {
        "colab": {
          "base_uri": "https://localhost:8080/"
        },
        "id": "ctYWujeUy6x_",
        "outputId": "c6a0c04a-8c13-4edb-f207-73aa30161d8d"
      },
      "source": [
        "model.fit(X_train,df['output'].values)"
      ],
      "id": "ctYWujeUy6x_",
      "execution_count": 366,
      "outputs": [
        {
          "output_type": "execute_result",
          "data": {
            "text/plain": [
              "MultinomialNB(alpha=1.0, class_prior=None, fit_prior=True)"
            ]
          },
          "metadata": {
            "tags": []
          },
          "execution_count": 366
        }
      ]
    },
    {
      "cell_type": "code",
      "metadata": {
        "id": "gTWkRJEJ0Aqi"
      },
      "source": [
        "df_t1 = pd.read_csv('/content/drive/MyDrive/data/FalseTestData.csv')"
      ],
      "id": "gTWkRJEJ0Aqi",
      "execution_count": 367,
      "outputs": []
    },
    {
      "cell_type": "code",
      "metadata": {
        "id": "bLqMiezA0XFK"
      },
      "source": [
        "df_t2 = pd.read_csv('/content/drive/MyDrive/data/TrueTestData.csv')"
      ],
      "id": "bLqMiezA0XFK",
      "execution_count": 368,
      "outputs": []
    },
    {
      "cell_type": "code",
      "metadata": {
        "colab": {
          "base_uri": "https://localhost:8080/"
        },
        "id": "Uiv2Fj0U0k1D",
        "outputId": "50a63c21-6cd2-4014-a2af-63ea028557b5"
      },
      "source": [
        "df_t1['output'] = [\"0\"]*df_t1.shape[0]\n",
        "df_t1.pop('Unnamed: 0')\n",
        "df_t2['output'] = [\"1\"]*df_t2.shape[0]\n",
        "df_t2.pop('Unnamed: 0')"
      ],
      "id": "Uiv2Fj0U0k1D",
      "execution_count": 369,
      "outputs": [
        {
          "output_type": "execute_result",
          "data": {
            "text/plain": [
              "0       15000\n",
              "1       15001\n",
              "2       15002\n",
              "3       15003\n",
              "4       15004\n",
              "        ...  \n",
              "6412    21412\n",
              "6413    21413\n",
              "6414    21414\n",
              "6415    21415\n",
              "6416    21416\n",
              "Name: Unnamed: 0, Length: 6417, dtype: int64"
            ]
          },
          "metadata": {
            "tags": []
          },
          "execution_count": 369
        }
      ]
    },
    {
      "cell_type": "code",
      "metadata": {
        "colab": {
          "base_uri": "https://localhost:8080/"
        },
        "id": "8OtuMHWV1Hs8",
        "outputId": "460e63cb-2852-4360-e7f4-0e1fe26b9651"
      },
      "source": [
        "df_t1.pop('date'),df_t2.pop('date')"
      ],
      "id": "8OtuMHWV1Hs8",
      "execution_count": 370,
      "outputs": [
        {
          "output_type": "execute_result",
          "data": {
            "text/plain": [
              "(0           Oct 30, 2015\n",
              " 1           Oct 30, 2015\n",
              " 2           Oct 30, 2015\n",
              " 3           Oct 30, 2015\n",
              " 4           Oct 30, 2015\n",
              "               ...       \n",
              " 8476    January 16, 2016\n",
              " 8477    January 16, 2016\n",
              " 8478    January 15, 2016\n",
              " 8479    January 14, 2016\n",
              " 8480    January 12, 2016\n",
              " Name: date, Length: 8481, dtype: object, 0       November 13, 2017 \n",
              " 1       November 13, 2017 \n",
              " 2       November 12, 2017 \n",
              " 3       November 12, 2017 \n",
              " 4       November 12, 2017 \n",
              "                ...        \n",
              " 6412      August 22, 2017 \n",
              " 6413      August 22, 2017 \n",
              " 6414      August 22, 2017 \n",
              " 6415      August 22, 2017 \n",
              " 6416      August 22, 2017 \n",
              " Name: date, Length: 6417, dtype: object)"
            ]
          },
          "metadata": {
            "tags": []
          },
          "execution_count": 370
        }
      ]
    },
    {
      "cell_type": "code",
      "metadata": {
        "id": "cS1UzcPR1SbE"
      },
      "source": [
        "cleaned_title_false = []\n",
        "for i in range(0, len(df_t1)):\n",
        "    subdata = re.sub('[^a-zA-Z0-9]', ' ', df_t1['title'][i])\n",
        "    subdata = subdata.lower()\n",
        "    subdata = subdata.split()\n",
        "    \n",
        "    subdata = [ps.stem(word) for word in subdata if not word in stop_words]\n",
        "    subdata = ' '.join(subdata)\n",
        "    cleaned_title_false.append(subdata)"
      ],
      "id": "cS1UzcPR1SbE",
      "execution_count": 371,
      "outputs": []
    },
    {
      "cell_type": "code",
      "metadata": {
        "id": "R_xqRk192tYC"
      },
      "source": [
        "false_test = cv.transform(cleaned_title_false).toarray()"
      ],
      "id": "R_xqRk192tYC",
      "execution_count": 372,
      "outputs": []
    },
    {
      "cell_type": "code",
      "metadata": {
        "id": "eHwkxYvt3NbP"
      },
      "source": [
        "cleaned_title_true = []\n",
        "for i in range(0, len(df_t2)):\n",
        "    subdata = re.sub('[^a-zA-Z0-9]', ' ', df_t2['title'][i])\n",
        "    subdata = subdata.lower()\n",
        "    subdata = subdata.split()\n",
        "    \n",
        "    subdata = [ps.stem(word) for word in subdata if not word in stop_words]\n",
        "    subdata = ' '.join(subdata)\n",
        "    cleaned_title_true.append(subdata)"
      ],
      "id": "eHwkxYvt3NbP",
      "execution_count": 373,
      "outputs": []
    },
    {
      "cell_type": "code",
      "metadata": {
        "id": "59VxN_Hk3Xwo"
      },
      "source": [
        "true_test = cv.transform(cleaned_title_true).toarray()"
      ],
      "id": "59VxN_Hk3Xwo",
      "execution_count": 374,
      "outputs": []
    },
    {
      "cell_type": "code",
      "metadata": {
        "id": "BBTVEERH34n7"
      },
      "source": [
        "from sklearn import metrics"
      ],
      "id": "BBTVEERH34n7",
      "execution_count": 375,
      "outputs": []
    },
    {
      "cell_type": "code",
      "metadata": {
        "colab": {
          "base_uri": "https://localhost:8080/"
        },
        "id": "J9KH-rQh3ta_",
        "outputId": "602fd723-c2c2-44ef-c4ef-5e6ca87f166f"
      },
      "source": [
        "pred_false = model.predict(false_test)\n",
        "print(pred_false[:10])"
      ],
      "id": "J9KH-rQh3ta_",
      "execution_count": 376,
      "outputs": [
        {
          "output_type": "stream",
          "text": [
            "['1' '0' '0' '1' '0' '0' '1' '1' '1' '1']\n"
          ],
          "name": "stdout"
        }
      ]
    },
    {
      "cell_type": "code",
      "metadata": {
        "colab": {
          "base_uri": "https://localhost:8080/"
        },
        "id": "GxjIpwrr4GYT",
        "outputId": "31862cf5-f0fa-4bfd-e1ba-7f72b28f37da"
      },
      "source": [
        "pred_true = model.predict(true_test)\n",
        "print(pred_true[:10])"
      ],
      "id": "GxjIpwrr4GYT",
      "execution_count": 377,
      "outputs": [
        {
          "output_type": "stream",
          "text": [
            "['1' '0' '0' '0' '0' '1' '0' '1' '0' '1']\n"
          ],
          "name": "stdout"
        }
      ]
    },
    {
      "cell_type": "code",
      "metadata": {
        "colab": {
          "base_uri": "https://localhost:8080/"
        },
        "id": "7HZ6m0zm4e1y",
        "outputId": "41de1fa8-814a-405e-c400-c3380241c0d1"
      },
      "source": [
        "false_score = metrics.accuracy_score(df_t1['output'].values,pred_false)\n",
        "print(false_score)"
      ],
      "id": "7HZ6m0zm4e1y",
      "execution_count": 378,
      "outputs": [
        {
          "output_type": "stream",
          "text": [
            "0.4681051762763825\n"
          ],
          "name": "stdout"
        }
      ]
    },
    {
      "cell_type": "code",
      "metadata": {
        "colab": {
          "base_uri": "https://localhost:8080/"
        },
        "id": "VQzbYEIb4vgc",
        "outputId": "1af71735-0880-447d-a25e-967f6dd86a68"
      },
      "source": [
        "true_score = metrics.accuracy_score(df_t2['output'].values,pred_true)\n",
        "print(true_score)"
      ],
      "id": "VQzbYEIb4vgc",
      "execution_count": 379,
      "outputs": [
        {
          "output_type": "stream",
          "text": [
            "0.4690665419978183\n"
          ],
          "name": "stdout"
        }
      ]
    }
  ]
}