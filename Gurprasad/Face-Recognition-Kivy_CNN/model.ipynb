{
  "nbformat": 4,
  "nbformat_minor": 0,
  "metadata": {
    "language_info": {
      "codemirror_mode": {
        "name": "ipython",
        "version": 3
      },
      "file_extension": ".py",
      "mimetype": "text/x-python",
      "name": "python",
      "nbconvert_exporter": "python",
      "pygments_lexer": "ipython3",
      "version": "3.8.6"
    },
    "orig_nbformat": 2,
    "kernelspec": {
      "name": "python386jvsc74a57bd0e158a0b7036a9485c36b6e101406264e1648273d21dcb87413c864dfff843404",
      "display_name": "Python 3.8.6 64-bit ('CodeForCause-4H5SLsgN': pipenv)"
    },
    "colab": {
      "name": "model.ipynb",
      "provenance": [],
      "collapsed_sections": []
    }
  },
  "cells": [
    {
      "cell_type": "code",
      "metadata": {
        "id": "p5TzvrBa7YlW"
      },
      "source": [
        "import keras\n",
        "from tensorflow.keras.models import Model\n",
        "from tensorflow.keras.layers import Input, Reshape, Dense, Conv2D, MaxPooling2D, Flatten, Dropout\n",
        "from tensorflow.keras.losses import categorical_crossentropy\n",
        "import numpy as np\n",
        "import pandas as pd\n",
        "from sklearn.preprocessing import OneHotEncoder\n",
        "from sklearn.preprocessing import LabelEncoder"
      ],
      "execution_count": 1,
      "outputs": []
    },
    {
      "cell_type": "code",
      "metadata": {
        "id": "LnZI7cR27Yla",
        "colab": {
          "base_uri": "https://localhost:8080/"
        },
        "outputId": "a442cb12-e581-49e0-8e32-bbaf7bc72d20"
      },
      "source": [
        "data = np.load('face_data.npy')\n",
        "print(data[:5])\n",
        "np.random.shuffle(data)\n",
        "print(data[:5])\n",
        "X = data[:, 1:]\n",
        "Y = data[:,0]"
      ],
      "execution_count": 7,
      "outputs": [
        {
          "output_type": "stream",
          "text": [
            "[['Gurprasad' '202' '202' ... '94' '93' '91']\n",
            " ['Gurprasad' '42' '42' ... '205' '204' '204']\n",
            " ['Gurprasad' '196' '196' ... '26' '26' '27']\n",
            " ['Gurprasad' '219' '218' ... '35' '37' '39']\n",
            " ['Gurprasad' '201' '202' ... '121' '123' '120']]\n",
            "[['Gurprasad' '201' '202' ... '121' '123' '120']\n",
            " ['Gurprasad' '204' '204' ... '65' '63' '66']\n",
            " ['Harshneet' '199' '201' ... '111' '110' '109']\n",
            " ['Harshneet' '200' '200' ... '97' '100' '101']\n",
            " ['Gurprasad' '203' '203' ... '83' '89' '94']]\n"
          ],
          "name": "stdout"
        }
      ]
    },
    {
      "cell_type": "code",
      "metadata": {
        "id": "qbWexGoy7Ylb"
      },
      "source": [
        "X = X.reshape(X.shape[0], 300, 300)"
      ],
      "execution_count": 8,
      "outputs": []
    },
    {
      "cell_type": "code",
      "metadata": {
        "colab": {
          "base_uri": "https://localhost:8080/"
        },
        "id": "x4zrKwdw7Ylb",
        "outputId": "0f146432-e990-43da-ee8c-0831c462b001"
      },
      "source": [
        "X.shape"
      ],
      "execution_count": 9,
      "outputs": [
        {
          "output_type": "execute_result",
          "data": {
            "text/plain": [
              "(20, 300, 300)"
            ]
          },
          "metadata": {
            "tags": []
          },
          "execution_count": 9
        }
      ]
    },
    {
      "cell_type": "code",
      "metadata": {
        "id": "-8Hch14A7Yld",
        "colab": {
          "base_uri": "https://localhost:8080/"
        },
        "outputId": "d687bd43-0eb8-475a-f18a-c5f25e34cb19"
      },
      "source": [
        "label_encoder = LabelEncoder()\n",
        "integer_encoded = label_encoder.fit_transform(Y)\n",
        "print(integer_encoded)\n",
        "# binary encode\n",
        "onehot_encoder = OneHotEncoder(sparse=False)\n",
        "integer_encoded = integer_encoded.reshape(len(integer_encoded), 1)\n",
        "y = onehot_encoder.fit_transform(integer_encoded)\n",
        "print(y)"
      ],
      "execution_count": 10,
      "outputs": [
        {
          "output_type": "stream",
          "text": [
            "[0 0 1 1 0 1 0 0 1 1 0 1 0 0 1 1 1 1 0 0]\n",
            "[[1. 0.]\n",
            " [1. 0.]\n",
            " [0. 1.]\n",
            " [0. 1.]\n",
            " [1. 0.]\n",
            " [0. 1.]\n",
            " [1. 0.]\n",
            " [1. 0.]\n",
            " [0. 1.]\n",
            " [0. 1.]\n",
            " [1. 0.]\n",
            " [0. 1.]\n",
            " [1. 0.]\n",
            " [1. 0.]\n",
            " [0. 1.]\n",
            " [0. 1.]\n",
            " [0. 1.]\n",
            " [0. 1.]\n",
            " [1. 0.]\n",
            " [1. 0.]]\n"
          ],
          "name": "stdout"
        }
      ]
    },
    {
      "cell_type": "code",
      "metadata": {
        "colab": {
          "base_uri": "https://localhost:8080/"
        },
        "id": "eTKf_OZMqLny",
        "outputId": "59e6bfba-d2a7-4077-bcdc-d7cc21df98cf"
      },
      "source": [
        "y.shape"
      ],
      "execution_count": 11,
      "outputs": [
        {
          "output_type": "execute_result",
          "data": {
            "text/plain": [
              "(20, 2)"
            ]
          },
          "metadata": {
            "tags": []
          },
          "execution_count": 11
        }
      ]
    },
    {
      "cell_type": "code",
      "metadata": {
        "id": "zGOxWRCB7Yld"
      },
      "source": [
        "X, y = X.astype(np.float), y.astype(np.uint8)"
      ],
      "execution_count": 12,
      "outputs": []
    },
    {
      "cell_type": "code",
      "metadata": {
        "id": "vvIHXcD-12z4"
      },
      "source": [
        "X = (X-127.5)/127.5"
      ],
      "execution_count": 13,
      "outputs": []
    },
    {
      "cell_type": "code",
      "metadata": {
        "colab": {
          "base_uri": "https://localhost:8080/"
        },
        "id": "7pE4oAxs42T2",
        "outputId": "1330bb5e-eec2-419f-f758-99ce977062dc"
      },
      "source": [
        "max(X[0][0])"
      ],
      "execution_count": 18,
      "outputs": [
        {
          "output_type": "execute_result",
          "data": {
            "text/plain": [
              "0.7647058823529411"
            ]
          },
          "metadata": {
            "tags": []
          },
          "execution_count": 18
        }
      ]
    },
    {
      "cell_type": "code",
      "metadata": {
        "id": "q5x4PRhd7Yle"
      },
      "source": [
        "in_layer = Input(shape = (300,300))\n",
        "reshape = Reshape((300, 300, 1))(in_layer)\n",
        "c1 = Conv2D(32, (3,3))(reshape)\n",
        "p1 = MaxPooling2D((2, 2))(c1)\n",
        "c2 = Conv2D(64, (2,2))(p1)\n",
        "p2 = MaxPooling2D((2, 2))(c2)\n",
        "drp1 = Dropout(0.2)(p2)\n",
        "flat = Flatten()(drp1)\n",
        "d1 = Dense(512, activation=\"tanh\")(flat)\n",
        "d2 = Dense(300, activation=\"tanh\")(d1)\n",
        "drp2 = Dropout(0.2)(d2)\n",
        "d3 = Dense(100, activation=\"tanh\")(drp2)\n",
        "drp3 = Dropout(0.1)(d3)\n",
        "out = Dense(2, activation=\"softmax\")(drp3)"
      ],
      "execution_count": 19,
      "outputs": []
    },
    {
      "cell_type": "code",
      "metadata": {
        "id": "Q04IfkXY7Ylf"
      },
      "source": [
        "model = Model(in_layer, out)"
      ],
      "execution_count": 20,
      "outputs": []
    },
    {
      "cell_type": "code",
      "metadata": {
        "colab": {
          "base_uri": "https://localhost:8080/"
        },
        "id": "tnAzghab7Ylf",
        "outputId": "e3898bf0-ae60-4518-e8f2-a1110f75bb60"
      },
      "source": [
        "model.summary()"
      ],
      "execution_count": 21,
      "outputs": [
        {
          "output_type": "stream",
          "text": [
            "Model: \"model\"\n",
            "_________________________________________________________________\n",
            "Layer (type)                 Output Shape              Param #   \n",
            "=================================================================\n",
            "input_1 (InputLayer)         [(None, 300, 300)]        0         \n",
            "_________________________________________________________________\n",
            "reshape (Reshape)            (None, 300, 300, 1)       0         \n",
            "_________________________________________________________________\n",
            "conv2d (Conv2D)              (None, 298, 298, 32)      320       \n",
            "_________________________________________________________________\n",
            "max_pooling2d (MaxPooling2D) (None, 149, 149, 32)      0         \n",
            "_________________________________________________________________\n",
            "conv2d_1 (Conv2D)            (None, 148, 148, 64)      8256      \n",
            "_________________________________________________________________\n",
            "max_pooling2d_1 (MaxPooling2 (None, 74, 74, 64)        0         \n",
            "_________________________________________________________________\n",
            "dropout (Dropout)            (None, 74, 74, 64)        0         \n",
            "_________________________________________________________________\n",
            "flatten (Flatten)            (None, 350464)            0         \n",
            "_________________________________________________________________\n",
            "dense (Dense)                (None, 512)               179438080 \n",
            "_________________________________________________________________\n",
            "dense_1 (Dense)              (None, 300)               153900    \n",
            "_________________________________________________________________\n",
            "dropout_1 (Dropout)          (None, 300)               0         \n",
            "_________________________________________________________________\n",
            "dense_2 (Dense)              (None, 100)               30100     \n",
            "_________________________________________________________________\n",
            "dropout_2 (Dropout)          (None, 100)               0         \n",
            "_________________________________________________________________\n",
            "dense_3 (Dense)              (None, 2)                 202       \n",
            "=================================================================\n",
            "Total params: 179,630,858\n",
            "Trainable params: 179,630,858\n",
            "Non-trainable params: 0\n",
            "_________________________________________________________________\n"
          ],
          "name": "stdout"
        }
      ]
    },
    {
      "cell_type": "code",
      "metadata": {
        "id": "aC66h8C47Ylg"
      },
      "source": [
        "model.compile(optimizer=\"adam\", loss=\"categorical_crossentropy\", metrics=[\"accuracy\"])"
      ],
      "execution_count": 22,
      "outputs": []
    },
    {
      "cell_type": "code",
      "metadata": {
        "id": "6YTNc8X47Ylg",
        "colab": {
          "base_uri": "https://localhost:8080/"
        },
        "outputId": "18d635a1-b8a4-491b-865c-0bfcbed75d09"
      },
      "source": [
        "model.fit(X, y, epochs=10, steps_per_epoch=10)"
      ],
      "execution_count": 23,
      "outputs": [
        {
          "output_type": "stream",
          "text": [
            "Epoch 1/10\n",
            "10/10 [==============================] - 44s 4s/step - loss: 1.6456 - accuracy: 0.5500\n",
            "Epoch 2/10\n",
            "10/10 [==============================] - 41s 4s/step - loss: 0.7262 - accuracy: 0.4500\n",
            "Epoch 3/10\n",
            "10/10 [==============================] - 32s 3s/step - loss: 0.7521 - accuracy: 0.4000\n",
            "Epoch 4/10\n",
            "10/10 [==============================] - 30s 3s/step - loss: 1.0270 - accuracy: 0.3000\n",
            "Epoch 5/10\n",
            "10/10 [==============================] - 30s 3s/step - loss: 0.7403 - accuracy: 0.7000\n",
            "Epoch 6/10\n",
            "10/10 [==============================] - 30s 3s/step - loss: 0.7452 - accuracy: 0.4500\n",
            "Epoch 7/10\n",
            "10/10 [==============================] - 30s 3s/step - loss: 0.8079 - accuracy: 0.3500\n",
            "Epoch 8/10\n",
            "10/10 [==============================] - 30s 3s/step - loss: 0.7594 - accuracy: 0.4000\n",
            "Epoch 9/10\n",
            "10/10 [==============================] - 29s 3s/step - loss: 0.8315 - accuracy: 0.5000\n",
            "Epoch 10/10\n",
            "10/10 [==============================] - 34s 3s/step - loss: 0.7248 - accuracy: 0.4500\n"
          ],
          "name": "stdout"
        },
        {
          "output_type": "execute_result",
          "data": {
            "text/plain": [
              "<tensorflow.python.keras.callbacks.History at 0x7f64138aa7d0>"
            ]
          },
          "metadata": {
            "tags": []
          },
          "execution_count": 23
        }
      ]
    },
    {
      "cell_type": "code",
      "metadata": {
        "id": "NpNK3TwLFjH3"
      },
      "source": [
        "from google.colab import drive\n",
        "drive.mount('/content/gdrive')\n"
      ],
      "execution_count": null,
      "outputs": []
    },
    {
      "cell_type": "code",
      "metadata": {
        "id": "YjHvIBoBHBLT"
      },
      "source": [
        "path = \"/content/gdrive/My Drive/facemodel.hdf5\"\n",
        "model.save(path, save_format=\"hdf5\")"
      ],
      "execution_count": null,
      "outputs": []
    }
  ]
}